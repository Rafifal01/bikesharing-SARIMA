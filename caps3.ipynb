{
  "cells": [
    {
      "cell_type": "markdown",
      "source": [
        "#Gambaran Umum, Latar Belakang, Rumusan Masalah"
      ],
      "metadata": {
        "id": "UzkLNbF_HcrF"
      }
    },
    {
      "cell_type": "markdown",
      "source": [
        "##Gambaran Umum"
      ],
      "metadata": {
        "id": "kN7m6LlRHmBS"
      }
    },
    {
      "cell_type": "markdown",
      "source": [
        "Perusahaan Bike Sharing System (BSS) merupakan penyedia layanan penyewaan sepeda berbasis sistem otomatis di kawasan perkotaan. Pengguna dapat menyewa sepeda dari satu stasiun dan mengembalikannya ke stasiun lain secara fleksibel melalui aplikasi digital.\n",
        "BSS berperan dalam mendukung mobilitas berkelanjutan (sustainable mobility), mengurangi kemacetan, polusi udara, dan konsumsi bahan bakar fosil. Sistem ini umumnya digunakan oleh masyarakat perkotaan, wisatawan, maupun pekerja harian yang melakukan perjalanan jarak pendek.\n",
        "\n",
        "Dalam operasionalnya, perusahaan menghadapi tantangan besar dalam perencanaan jumlah sepeda yang optimal di setiap stasiun. Jumlah permintaan yang terlalu tinggi dapat menyebabkan kekurangan sepeda, sedangkan permintaan rendah dapat menimbulkan inefisiensi biaya perawatan dan distribusi. Oleh karena itu, diperlukan model prediksi jumlah penyewaan sepeda (rental demand forecasting) yang akurat untuk mendukung keputusan operasional harian, mingguan, maupun bulanan."
      ],
      "metadata": {
        "id": "ekWb1k4-Hik3"
      }
    },
    {
      "cell_type": "markdown",
      "source": [
        "##Latar Belakang"
      ],
      "metadata": {
        "id": "MHYnVN_4HoBb"
      }
    },
    {
      "cell_type": "markdown",
      "source": [
        "Perkembangan teknologi Internet of Things (IoT) dan sistem sensor telah memungkinkan pencatatan data operasional sepeda secara real time. Data tersebut mencakup variabel seperti suhu, kelembapan, kecepatan angin, kondisi cuaca, hari kerja/libur, serta jumlah pengguna casual dan registered.\n",
        "Namun, data yang kompleks dan bersifat musiman ini membuat prediksi manual menjadi sulit dan sering tidak akurat. Dalam konteks bisnis, prediksi permintaan sepeda menjadi hal krusial untuk:\n",
        "- Mengatur stok sepeda agar sesuai dengan kebutuhan pengguna.\n",
        "- Mengoptimalkan penjadwalan maintenance dan distribusi sepeda antar stasiun.\n",
        "- Mendukung strategi pricing berdasarkan tren permintaan.\n",
        "- Mengurangi biaya operasional akibat ketidakseimbangan pasokan dan permintaan.\n",
        "\n",
        "Oleh karena itu, proyek ini dikembangkan untuk membangun sistem prediksi jumlah penyewaan sepeda menggunakan pendekatan Machine Learning dan Time Series Forecasting (SARIMA), serta pendekatan Hybrid Model untuk menggabungkan keunggulan keduanya."
      ],
      "metadata": {
        "id": "Hn8SpAC5HkYr"
      }
    },
    {
      "cell_type": "markdown",
      "source": [
        "##Rumusan Masalah"
      ],
      "metadata": {
        "id": "JdeasCkYHpbT"
      }
    },
    {
      "cell_type": "markdown",
      "source": [
        "Berdasarkan latar belakang di atas, maka rumusan masalah pada proyek ini adalah:\n",
        "\n",
        "- Bagaimana memprediksi jumlah penyewaan sepeda (bike rental demand) secara akurat berdasarkan variabel cuaca dan waktu?\n",
        "\n",
        "- Bagaimana performa model Machine Learning (Gradient Boosting/Random Forest) dibandingkan dengan model Time Series (SARIMA)?\n",
        "\n",
        "- Apakah pendekatan Hybrid (gabungan ML dan SARIMA) dapat meningkatkan akurasi prediksi dibandingkan model tunggal?\n",
        "\n",
        "- Bagaimana hasil prediksi tersebut dapat dimanfaatkan untuk mendukung efisiensi operasional perusahaan Bike Sharing?"
      ],
      "metadata": {
        "id": "OulQ2uJ0HlgN"
      }
    },
    {
      "cell_type": "markdown",
      "source": [
        "##Tujuan Capstone"
      ],
      "metadata": {
        "id": "4Fl-5dgBH6tJ"
      }
    },
    {
      "cell_type": "markdown",
      "source": [
        "| No | Tujuan                                                              | Penjelasan                                                                                                                   |\n",
        "| -- | ------------------------------------------------------------------- | ---------------------------------------------------------------------------------------------------------------------------- |\n",
        "| 1  | Mengumpulkan dan membersihkan data historis penyewaan sepeda        | Melakukan preprocessing pada dataset Bike Sharing agar siap untuk analisis dan modeling.                                     |\n",
        "| 2  | Menganalisis faktor-faktor yang memengaruhi jumlah penyewaan sepeda | Melihat pengaruh variabel cuaca, hari, dan waktu terhadap permintaan sepeda.                                                 |\n",
        "| 3  | Membangun dan membandingkan model prediksi                          | Menggunakan model Machine Learning (Gradient Boosting), Time Series (SARIMA), dan Hybrid Model untuk memprediksi permintaan. |\n",
        "| 4  | Mengevaluasi performa model                                         | Mengukur kinerja model menggunakan metrik RMSE, MAE, dan R² pada data harian, mingguan, dan bulanan.                         |\n",
        "| 5  | Menyediakan insight bisnis                                          | Memberikan rekomendasi berbasis data untuk pengelolaan sepeda, distribusi, dan strategi operasional.                         |\n"
      ],
      "metadata": {
        "id": "Q8RIV3j_H3jq"
      }
    },
    {
      "cell_type": "markdown",
      "source": [
        "| Jenis Goal         | Deskripsi                                                                                                                                                                                 |\n",
        "| ------------------ | ----------------------------------------------------------------------------------------------------------------------------------------------------------------------------------------- |\n",
        "| **Business Goal**  | Menyediakan alat bantu prediksi permintaan sepeda agar perusahaan dapat mengatur ketersediaan unit dengan efisien, mengurangi biaya operasional, dan meningkatkan kepuasan pelanggan.     |\n",
        "| **Technical Goal** | Membangun model prediksi berbasis data historis menggunakan Machine Learning dan SARIMA, serta mengembangkan model hybrid dengan performa optimal berdasarkan evaluasi RMSE, MAE, dan R². |\n"
      ],
      "metadata": {
        "id": "hgfY98s9H-y5"
      }
    },
    {
      "cell_type": "markdown",
      "metadata": {
        "id": "s41NCOaH24X0"
      },
      "source": [
        "#Library"
      ]
    },
    {
      "cell_type": "code",
      "execution_count": null,
      "metadata": {
        "id": "LsCfdHYUZ-Ni"
      },
      "outputs": [],
      "source": [
        "import pandas as pd\n",
        "import numpy as np\n",
        "import math\n",
        "import matplotlib.pyplot as plt\n",
        "import joblib\n",
        "import statsmodels.api as sm\n",
        "from sklearn.pipeline import Pipeline\n",
        "from sklearn.compose import ColumnTransformer\n",
        "from sklearn.preprocessing import StandardScaler, OneHotEncoder\n",
        "from sklearn.impute import SimpleImputer\n",
        "from sklearn.ensemble import RandomForestRegressor, GradientBoostingRegressor\n",
        "from sklearn.model_selection import TimeSeriesSplit, RandomizedSearchCV\n",
        "from sklearn.metrics import mean_squared_error, mean_absolute_error, r2_score"
      ]
    },
    {
      "cell_type": "markdown",
      "metadata": {
        "id": "cQTuiCY4vm1G"
      },
      "source": [
        "#Data Load & Check"
      ]
    },
    {
      "cell_type": "code",
      "execution_count": null,
      "metadata": {
        "colab": {
          "base_uri": "https://localhost:8080/",
          "height": 424
        },
        "id": "rDjtc-qTZy6d",
        "outputId": "497d3744-aa88-40ad-b704-4cda6ce61192"
      },
      "outputs": [
        {
          "data": {
            "application/vnd.google.colaboratory.intrinsic+json": {
              "summary": "{\n  \"name\": \"df\",\n  \"rows\": 12165,\n  \"fields\": [\n    {\n      \"column\": \"dteday\",\n      \"properties\": {\n        \"dtype\": \"object\",\n        \"num_unique_values\": 731,\n        \"samples\": [\n          \"2011-09-25\",\n          \"2012-09-23\",\n          \"2012-09-19\"\n        ],\n        \"semantic_type\": \"\",\n        \"description\": \"\"\n      }\n    },\n    {\n      \"column\": \"hum\",\n      \"properties\": {\n        \"dtype\": \"number\",\n        \"std\": 0.19210242576498282,\n        \"min\": 0.0,\n        \"max\": 1.0,\n        \"num_unique_values\": 89,\n        \"samples\": [\n          0.81,\n          0.28,\n          0.66\n        ],\n        \"semantic_type\": \"\",\n        \"description\": \"\"\n      }\n    },\n    {\n      \"column\": \"weathersit\",\n      \"properties\": {\n        \"dtype\": \"number\",\n        \"std\": 0,\n        \"min\": 1,\n        \"max\": 4,\n        \"num_unique_values\": 4,\n        \"samples\": [\n          2,\n          4,\n          1\n        ],\n        \"semantic_type\": \"\",\n        \"description\": \"\"\n      }\n    },\n    {\n      \"column\": \"holiday\",\n      \"properties\": {\n        \"dtype\": \"number\",\n        \"std\": 0,\n        \"min\": 0,\n        \"max\": 1,\n        \"num_unique_values\": 2,\n        \"samples\": [\n          1,\n          0\n        ],\n        \"semantic_type\": \"\",\n        \"description\": \"\"\n      }\n    },\n    {\n      \"column\": \"season\",\n      \"properties\": {\n        \"dtype\": \"number\",\n        \"std\": 1,\n        \"min\": 1,\n        \"max\": 4,\n        \"num_unique_values\": 4,\n        \"samples\": [\n          2,\n          1\n        ],\n        \"semantic_type\": \"\",\n        \"description\": \"\"\n      }\n    },\n    {\n      \"column\": \"atemp\",\n      \"properties\": {\n        \"dtype\": \"number\",\n        \"std\": 0.17185705468484624,\n        \"min\": 0.0,\n        \"max\": 1.0,\n        \"num_unique_values\": 65,\n        \"samples\": [\n          0.8182,\n          0.9545\n        ],\n        \"semantic_type\": \"\",\n        \"description\": \"\"\n      }\n    },\n    {\n      \"column\": \"temp\",\n      \"properties\": {\n        \"dtype\": \"number\",\n        \"std\": 0.1924917358900912,\n        \"min\": 0.02,\n        \"max\": 1.0,\n        \"num_unique_values\": 50,\n        \"samples\": [\n          0.4,\n          0.84\n        ],\n        \"semantic_type\": \"\",\n        \"description\": \"\"\n      }\n    },\n    {\n      \"column\": \"hr\",\n      \"properties\": {\n        \"dtype\": \"number\",\n        \"std\": 6,\n        \"min\": 0,\n        \"max\": 23,\n        \"num_unique_values\": 24,\n        \"samples\": [\n          5,\n          13\n        ],\n        \"semantic_type\": \"\",\n        \"description\": \"\"\n      }\n    },\n    {\n      \"column\": \"casual\",\n      \"properties\": {\n        \"dtype\": \"number\",\n        \"std\": 49,\n        \"min\": 0,\n        \"max\": 362,\n        \"num_unique_values\": 305,\n        \"samples\": [\n          88,\n          133\n        ],\n        \"semantic_type\": \"\",\n        \"description\": \"\"\n      }\n    },\n    {\n      \"column\": \"registered\",\n      \"properties\": {\n        \"dtype\": \"number\",\n        \"std\": 151,\n        \"min\": 0,\n        \"max\": 876,\n        \"num_unique_values\": 742,\n        \"samples\": [\n          10,\n          556\n        ],\n        \"semantic_type\": \"\",\n        \"description\": \"\"\n      }\n    },\n    {\n      \"column\": \"cnt\",\n      \"properties\": {\n        \"dtype\": \"number\",\n        \"std\": 181,\n        \"min\": 1,\n        \"max\": 970,\n        \"num_unique_values\": 830,\n        \"samples\": [\n          835,\n          650\n        ],\n        \"semantic_type\": \"\",\n        \"description\": \"\"\n      }\n    }\n  ]\n}",
              "type": "dataframe",
              "variable_name": "df"
            },
            "text/html": [
              "\n",
              "  <div id=\"df-4ca0c23f-f719-40b3-ae7a-e1c26fa2b813\" class=\"colab-df-container\">\n",
              "    <div>\n",
              "<style scoped>\n",
              "    .dataframe tbody tr th:only-of-type {\n",
              "        vertical-align: middle;\n",
              "    }\n",
              "\n",
              "    .dataframe tbody tr th {\n",
              "        vertical-align: top;\n",
              "    }\n",
              "\n",
              "    .dataframe thead th {\n",
              "        text-align: right;\n",
              "    }\n",
              "</style>\n",
              "<table border=\"1\" class=\"dataframe\">\n",
              "  <thead>\n",
              "    <tr style=\"text-align: right;\">\n",
              "      <th></th>\n",
              "      <th>dteday</th>\n",
              "      <th>hum</th>\n",
              "      <th>weathersit</th>\n",
              "      <th>holiday</th>\n",
              "      <th>season</th>\n",
              "      <th>atemp</th>\n",
              "      <th>temp</th>\n",
              "      <th>hr</th>\n",
              "      <th>casual</th>\n",
              "      <th>registered</th>\n",
              "      <th>cnt</th>\n",
              "    </tr>\n",
              "  </thead>\n",
              "  <tbody>\n",
              "    <tr>\n",
              "      <th>0</th>\n",
              "      <td>2011-12-09</td>\n",
              "      <td>0.62</td>\n",
              "      <td>1</td>\n",
              "      <td>0</td>\n",
              "      <td>4</td>\n",
              "      <td>0.3485</td>\n",
              "      <td>0.36</td>\n",
              "      <td>16</td>\n",
              "      <td>24</td>\n",
              "      <td>226</td>\n",
              "      <td>250</td>\n",
              "    </tr>\n",
              "    <tr>\n",
              "      <th>1</th>\n",
              "      <td>2012-06-17</td>\n",
              "      <td>0.64</td>\n",
              "      <td>1</td>\n",
              "      <td>0</td>\n",
              "      <td>2</td>\n",
              "      <td>0.5152</td>\n",
              "      <td>0.54</td>\n",
              "      <td>4</td>\n",
              "      <td>2</td>\n",
              "      <td>16</td>\n",
              "      <td>18</td>\n",
              "    </tr>\n",
              "    <tr>\n",
              "      <th>2</th>\n",
              "      <td>2011-06-15</td>\n",
              "      <td>0.53</td>\n",
              "      <td>1</td>\n",
              "      <td>0</td>\n",
              "      <td>2</td>\n",
              "      <td>0.6212</td>\n",
              "      <td>0.62</td>\n",
              "      <td>23</td>\n",
              "      <td>17</td>\n",
              "      <td>90</td>\n",
              "      <td>107</td>\n",
              "    </tr>\n",
              "    <tr>\n",
              "      <th>3</th>\n",
              "      <td>2012-03-31</td>\n",
              "      <td>0.87</td>\n",
              "      <td>2</td>\n",
              "      <td>0</td>\n",
              "      <td>2</td>\n",
              "      <td>0.3485</td>\n",
              "      <td>0.36</td>\n",
              "      <td>8</td>\n",
              "      <td>19</td>\n",
              "      <td>126</td>\n",
              "      <td>145</td>\n",
              "    </tr>\n",
              "    <tr>\n",
              "      <th>4</th>\n",
              "      <td>2012-07-31</td>\n",
              "      <td>0.55</td>\n",
              "      <td>1</td>\n",
              "      <td>0</td>\n",
              "      <td>3</td>\n",
              "      <td>0.6970</td>\n",
              "      <td>0.76</td>\n",
              "      <td>18</td>\n",
              "      <td>99</td>\n",
              "      <td>758</td>\n",
              "      <td>857</td>\n",
              "    </tr>\n",
              "    <tr>\n",
              "      <th>...</th>\n",
              "      <td>...</td>\n",
              "      <td>...</td>\n",
              "      <td>...</td>\n",
              "      <td>...</td>\n",
              "      <td>...</td>\n",
              "      <td>...</td>\n",
              "      <td>...</td>\n",
              "      <td>...</td>\n",
              "      <td>...</td>\n",
              "      <td>...</td>\n",
              "      <td>...</td>\n",
              "    </tr>\n",
              "    <tr>\n",
              "      <th>12160</th>\n",
              "      <td>2012-01-25</td>\n",
              "      <td>0.75</td>\n",
              "      <td>1</td>\n",
              "      <td>0</td>\n",
              "      <td>1</td>\n",
              "      <td>0.2273</td>\n",
              "      <td>0.24</td>\n",
              "      <td>7</td>\n",
              "      <td>14</td>\n",
              "      <td>243</td>\n",
              "      <td>257</td>\n",
              "    </tr>\n",
              "    <tr>\n",
              "      <th>12161</th>\n",
              "      <td>2012-07-06</td>\n",
              "      <td>0.62</td>\n",
              "      <td>1</td>\n",
              "      <td>0</td>\n",
              "      <td>3</td>\n",
              "      <td>0.7424</td>\n",
              "      <td>0.78</td>\n",
              "      <td>0</td>\n",
              "      <td>39</td>\n",
              "      <td>63</td>\n",
              "      <td>102</td>\n",
              "    </tr>\n",
              "    <tr>\n",
              "      <th>12162</th>\n",
              "      <td>2012-02-20</td>\n",
              "      <td>0.60</td>\n",
              "      <td>2</td>\n",
              "      <td>1</td>\n",
              "      <td>1</td>\n",
              "      <td>0.2121</td>\n",
              "      <td>0.24</td>\n",
              "      <td>5</td>\n",
              "      <td>0</td>\n",
              "      <td>6</td>\n",
              "      <td>6</td>\n",
              "    </tr>\n",
              "    <tr>\n",
              "      <th>12163</th>\n",
              "      <td>2012-03-31</td>\n",
              "      <td>0.77</td>\n",
              "      <td>2</td>\n",
              "      <td>0</td>\n",
              "      <td>2</td>\n",
              "      <td>0.4242</td>\n",
              "      <td>0.42</td>\n",
              "      <td>2</td>\n",
              "      <td>14</td>\n",
              "      <td>55</td>\n",
              "      <td>69</td>\n",
              "    </tr>\n",
              "    <tr>\n",
              "      <th>12164</th>\n",
              "      <td>2011-04-28</td>\n",
              "      <td>0.47</td>\n",
              "      <td>1</td>\n",
              "      <td>0</td>\n",
              "      <td>2</td>\n",
              "      <td>0.6212</td>\n",
              "      <td>0.64</td>\n",
              "      <td>18</td>\n",
              "      <td>44</td>\n",
              "      <td>486</td>\n",
              "      <td>530</td>\n",
              "    </tr>\n",
              "  </tbody>\n",
              "</table>\n",
              "<p>12165 rows × 11 columns</p>\n",
              "</div>\n",
              "    <div class=\"colab-df-buttons\">\n",
              "\n",
              "  <div class=\"colab-df-container\">\n",
              "    <button class=\"colab-df-convert\" onclick=\"convertToInteractive('df-4ca0c23f-f719-40b3-ae7a-e1c26fa2b813')\"\n",
              "            title=\"Convert this dataframe to an interactive table.\"\n",
              "            style=\"display:none;\">\n",
              "\n",
              "  <svg xmlns=\"http://www.w3.org/2000/svg\" height=\"24px\" viewBox=\"0 -960 960 960\">\n",
              "    <path d=\"M120-120v-720h720v720H120Zm60-500h600v-160H180v160Zm220 220h160v-160H400v160Zm0 220h160v-160H400v160ZM180-400h160v-160H180v160Zm440 0h160v-160H620v160ZM180-180h160v-160H180v160Zm440 0h160v-160H620v160Z\"/>\n",
              "  </svg>\n",
              "    </button>\n",
              "\n",
              "  <style>\n",
              "    .colab-df-container {\n",
              "      display:flex;\n",
              "      gap: 12px;\n",
              "    }\n",
              "\n",
              "    .colab-df-convert {\n",
              "      background-color: #E8F0FE;\n",
              "      border: none;\n",
              "      border-radius: 50%;\n",
              "      cursor: pointer;\n",
              "      display: none;\n",
              "      fill: #1967D2;\n",
              "      height: 32px;\n",
              "      padding: 0 0 0 0;\n",
              "      width: 32px;\n",
              "    }\n",
              "\n",
              "    .colab-df-convert:hover {\n",
              "      background-color: #E2EBFA;\n",
              "      box-shadow: 0px 1px 2px rgba(60, 64, 67, 0.3), 0px 1px 3px 1px rgba(60, 64, 67, 0.15);\n",
              "      fill: #174EA6;\n",
              "    }\n",
              "\n",
              "    .colab-df-buttons div {\n",
              "      margin-bottom: 4px;\n",
              "    }\n",
              "\n",
              "    [theme=dark] .colab-df-convert {\n",
              "      background-color: #3B4455;\n",
              "      fill: #D2E3FC;\n",
              "    }\n",
              "\n",
              "    [theme=dark] .colab-df-convert:hover {\n",
              "      background-color: #434B5C;\n",
              "      box-shadow: 0px 1px 3px 1px rgba(0, 0, 0, 0.15);\n",
              "      filter: drop-shadow(0px 1px 2px rgba(0, 0, 0, 0.3));\n",
              "      fill: #FFFFFF;\n",
              "    }\n",
              "  </style>\n",
              "\n",
              "    <script>\n",
              "      const buttonEl =\n",
              "        document.querySelector('#df-4ca0c23f-f719-40b3-ae7a-e1c26fa2b813 button.colab-df-convert');\n",
              "      buttonEl.style.display =\n",
              "        google.colab.kernel.accessAllowed ? 'block' : 'none';\n",
              "\n",
              "      async function convertToInteractive(key) {\n",
              "        const element = document.querySelector('#df-4ca0c23f-f719-40b3-ae7a-e1c26fa2b813');\n",
              "        const dataTable =\n",
              "          await google.colab.kernel.invokeFunction('convertToInteractive',\n",
              "                                                    [key], {});\n",
              "        if (!dataTable) return;\n",
              "\n",
              "        const docLinkHtml = 'Like what you see? Visit the ' +\n",
              "          '<a target=\"_blank\" href=https://colab.research.google.com/notebooks/data_table.ipynb>data table notebook</a>'\n",
              "          + ' to learn more about interactive tables.';\n",
              "        element.innerHTML = '';\n",
              "        dataTable['output_type'] = 'display_data';\n",
              "        await google.colab.output.renderOutput(dataTable, element);\n",
              "        const docLink = document.createElement('div');\n",
              "        docLink.innerHTML = docLinkHtml;\n",
              "        element.appendChild(docLink);\n",
              "      }\n",
              "    </script>\n",
              "  </div>\n",
              "\n",
              "\n",
              "    <div id=\"df-71d19f4e-24ef-42d5-8770-6e392c248461\">\n",
              "      <button class=\"colab-df-quickchart\" onclick=\"quickchart('df-71d19f4e-24ef-42d5-8770-6e392c248461')\"\n",
              "                title=\"Suggest charts\"\n",
              "                style=\"display:none;\">\n",
              "\n",
              "<svg xmlns=\"http://www.w3.org/2000/svg\" height=\"24px\"viewBox=\"0 0 24 24\"\n",
              "     width=\"24px\">\n",
              "    <g>\n",
              "        <path d=\"M19 3H5c-1.1 0-2 .9-2 2v14c0 1.1.9 2 2 2h14c1.1 0 2-.9 2-2V5c0-1.1-.9-2-2-2zM9 17H7v-7h2v7zm4 0h-2V7h2v10zm4 0h-2v-4h2v4z\"/>\n",
              "    </g>\n",
              "</svg>\n",
              "      </button>\n",
              "\n",
              "<style>\n",
              "  .colab-df-quickchart {\n",
              "      --bg-color: #E8F0FE;\n",
              "      --fill-color: #1967D2;\n",
              "      --hover-bg-color: #E2EBFA;\n",
              "      --hover-fill-color: #174EA6;\n",
              "      --disabled-fill-color: #AAA;\n",
              "      --disabled-bg-color: #DDD;\n",
              "  }\n",
              "\n",
              "  [theme=dark] .colab-df-quickchart {\n",
              "      --bg-color: #3B4455;\n",
              "      --fill-color: #D2E3FC;\n",
              "      --hover-bg-color: #434B5C;\n",
              "      --hover-fill-color: #FFFFFF;\n",
              "      --disabled-bg-color: #3B4455;\n",
              "      --disabled-fill-color: #666;\n",
              "  }\n",
              "\n",
              "  .colab-df-quickchart {\n",
              "    background-color: var(--bg-color);\n",
              "    border: none;\n",
              "    border-radius: 50%;\n",
              "    cursor: pointer;\n",
              "    display: none;\n",
              "    fill: var(--fill-color);\n",
              "    height: 32px;\n",
              "    padding: 0;\n",
              "    width: 32px;\n",
              "  }\n",
              "\n",
              "  .colab-df-quickchart:hover {\n",
              "    background-color: var(--hover-bg-color);\n",
              "    box-shadow: 0 1px 2px rgba(60, 64, 67, 0.3), 0 1px 3px 1px rgba(60, 64, 67, 0.15);\n",
              "    fill: var(--button-hover-fill-color);\n",
              "  }\n",
              "\n",
              "  .colab-df-quickchart-complete:disabled,\n",
              "  .colab-df-quickchart-complete:disabled:hover {\n",
              "    background-color: var(--disabled-bg-color);\n",
              "    fill: var(--disabled-fill-color);\n",
              "    box-shadow: none;\n",
              "  }\n",
              "\n",
              "  .colab-df-spinner {\n",
              "    border: 2px solid var(--fill-color);\n",
              "    border-color: transparent;\n",
              "    border-bottom-color: var(--fill-color);\n",
              "    animation:\n",
              "      spin 1s steps(1) infinite;\n",
              "  }\n",
              "\n",
              "  @keyframes spin {\n",
              "    0% {\n",
              "      border-color: transparent;\n",
              "      border-bottom-color: var(--fill-color);\n",
              "      border-left-color: var(--fill-color);\n",
              "    }\n",
              "    20% {\n",
              "      border-color: transparent;\n",
              "      border-left-color: var(--fill-color);\n",
              "      border-top-color: var(--fill-color);\n",
              "    }\n",
              "    30% {\n",
              "      border-color: transparent;\n",
              "      border-left-color: var(--fill-color);\n",
              "      border-top-color: var(--fill-color);\n",
              "      border-right-color: var(--fill-color);\n",
              "    }\n",
              "    40% {\n",
              "      border-color: transparent;\n",
              "      border-right-color: var(--fill-color);\n",
              "      border-top-color: var(--fill-color);\n",
              "    }\n",
              "    60% {\n",
              "      border-color: transparent;\n",
              "      border-right-color: var(--fill-color);\n",
              "    }\n",
              "    80% {\n",
              "      border-color: transparent;\n",
              "      border-right-color: var(--fill-color);\n",
              "      border-bottom-color: var(--fill-color);\n",
              "    }\n",
              "    90% {\n",
              "      border-color: transparent;\n",
              "      border-bottom-color: var(--fill-color);\n",
              "    }\n",
              "  }\n",
              "</style>\n",
              "\n",
              "      <script>\n",
              "        async function quickchart(key) {\n",
              "          const quickchartButtonEl =\n",
              "            document.querySelector('#' + key + ' button');\n",
              "          quickchartButtonEl.disabled = true;  // To prevent multiple clicks.\n",
              "          quickchartButtonEl.classList.add('colab-df-spinner');\n",
              "          try {\n",
              "            const charts = await google.colab.kernel.invokeFunction(\n",
              "                'suggestCharts', [key], {});\n",
              "          } catch (error) {\n",
              "            console.error('Error during call to suggestCharts:', error);\n",
              "          }\n",
              "          quickchartButtonEl.classList.remove('colab-df-spinner');\n",
              "          quickchartButtonEl.classList.add('colab-df-quickchart-complete');\n",
              "        }\n",
              "        (() => {\n",
              "          let quickchartButtonEl =\n",
              "            document.querySelector('#df-71d19f4e-24ef-42d5-8770-6e392c248461 button');\n",
              "          quickchartButtonEl.style.display =\n",
              "            google.colab.kernel.accessAllowed ? 'block' : 'none';\n",
              "        })();\n",
              "      </script>\n",
              "    </div>\n",
              "\n",
              "  <div id=\"id_0a1befa3-298b-4dba-b422-3f963a514b9c\">\n",
              "    <style>\n",
              "      .colab-df-generate {\n",
              "        background-color: #E8F0FE;\n",
              "        border: none;\n",
              "        border-radius: 50%;\n",
              "        cursor: pointer;\n",
              "        display: none;\n",
              "        fill: #1967D2;\n",
              "        height: 32px;\n",
              "        padding: 0 0 0 0;\n",
              "        width: 32px;\n",
              "      }\n",
              "\n",
              "      .colab-df-generate:hover {\n",
              "        background-color: #E2EBFA;\n",
              "        box-shadow: 0px 1px 2px rgba(60, 64, 67, 0.3), 0px 1px 3px 1px rgba(60, 64, 67, 0.15);\n",
              "        fill: #174EA6;\n",
              "      }\n",
              "\n",
              "      [theme=dark] .colab-df-generate {\n",
              "        background-color: #3B4455;\n",
              "        fill: #D2E3FC;\n",
              "      }\n",
              "\n",
              "      [theme=dark] .colab-df-generate:hover {\n",
              "        background-color: #434B5C;\n",
              "        box-shadow: 0px 1px 3px 1px rgba(0, 0, 0, 0.15);\n",
              "        filter: drop-shadow(0px 1px 2px rgba(0, 0, 0, 0.3));\n",
              "        fill: #FFFFFF;\n",
              "      }\n",
              "    </style>\n",
              "    <button class=\"colab-df-generate\" onclick=\"generateWithVariable('df')\"\n",
              "            title=\"Generate code using this dataframe.\"\n",
              "            style=\"display:none;\">\n",
              "\n",
              "  <svg xmlns=\"http://www.w3.org/2000/svg\" height=\"24px\"viewBox=\"0 0 24 24\"\n",
              "       width=\"24px\">\n",
              "    <path d=\"M7,19H8.4L18.45,9,17,7.55,7,17.6ZM5,21V16.75L18.45,3.32a2,2,0,0,1,2.83,0l1.4,1.43a1.91,1.91,0,0,1,.58,1.4,1.91,1.91,0,0,1-.58,1.4L9.25,21ZM18.45,9,17,7.55Zm-12,3A5.31,5.31,0,0,0,4.9,8.1,5.31,5.31,0,0,0,1,6.5,5.31,5.31,0,0,0,4.9,4.9,5.31,5.31,0,0,0,6.5,1,5.31,5.31,0,0,0,8.1,4.9,5.31,5.31,0,0,0,12,6.5,5.46,5.46,0,0,0,6.5,12Z\"/>\n",
              "  </svg>\n",
              "    </button>\n",
              "    <script>\n",
              "      (() => {\n",
              "      const buttonEl =\n",
              "        document.querySelector('#id_0a1befa3-298b-4dba-b422-3f963a514b9c button.colab-df-generate');\n",
              "      buttonEl.style.display =\n",
              "        google.colab.kernel.accessAllowed ? 'block' : 'none';\n",
              "\n",
              "      buttonEl.onclick = () => {\n",
              "        google.colab.notebook.generateWithVariable('df');\n",
              "      }\n",
              "      })();\n",
              "    </script>\n",
              "  </div>\n",
              "\n",
              "    </div>\n",
              "  </div>\n"
            ],
            "text/plain": [
              "           dteday   hum  weathersit  holiday  season   atemp  temp  hr  \\\n",
              "0      2011-12-09  0.62           1        0       4  0.3485  0.36  16   \n",
              "1      2012-06-17  0.64           1        0       2  0.5152  0.54   4   \n",
              "2      2011-06-15  0.53           1        0       2  0.6212  0.62  23   \n",
              "3      2012-03-31  0.87           2        0       2  0.3485  0.36   8   \n",
              "4      2012-07-31  0.55           1        0       3  0.6970  0.76  18   \n",
              "...           ...   ...         ...      ...     ...     ...   ...  ..   \n",
              "12160  2012-01-25  0.75           1        0       1  0.2273  0.24   7   \n",
              "12161  2012-07-06  0.62           1        0       3  0.7424  0.78   0   \n",
              "12162  2012-02-20  0.60           2        1       1  0.2121  0.24   5   \n",
              "12163  2012-03-31  0.77           2        0       2  0.4242  0.42   2   \n",
              "12164  2011-04-28  0.47           1        0       2  0.6212  0.64  18   \n",
              "\n",
              "       casual  registered  cnt  \n",
              "0          24         226  250  \n",
              "1           2          16   18  \n",
              "2          17          90  107  \n",
              "3          19         126  145  \n",
              "4          99         758  857  \n",
              "...       ...         ...  ...  \n",
              "12160      14         243  257  \n",
              "12161      39          63  102  \n",
              "12162       0           6    6  \n",
              "12163      14          55   69  \n",
              "12164      44         486  530  \n",
              "\n",
              "[12165 rows x 11 columns]"
            ]
          },
          "execution_count": 9,
          "metadata": {},
          "output_type": "execute_result"
        }
      ],
      "source": [
        "df = pd.read_csv('/content/data_bike_sharing.csv')\n",
        "df"
      ]
    },
    {
      "cell_type": "markdown",
      "metadata": {
        "id": "1E6FVKiEkgEb"
      },
      "source": [
        "Dataset ini mencatat jumlah penyewaan sepeda (bike rentals) di Washington D.C. berdasarkan kondisi cuaca dan waktu.\n",
        "Tiap baris mewakili satu pengamatan (bisa per jam atau per hari tergantung subset datanya).\n",
        "\n",
        "| Kolom          | Tipe      | Deskripsi                                                                                                                                 |\n",
        "| -------------- | --------- | ----------------------------------------------------------------------------------------------------------------------------------------- |\n",
        "| **dteday**     | datetime  | Tanggal observasi dilakukan (format YYYY-MM-DD).                                                                                          |\n",
        "| **hum**        | float     | Humidity (kelembapan relatif) dalam skala 0–1. Contoh: 0.62 = 62%.                                                                        |\n",
        "| **weathersit** | int       | Kategori kondisi cuaca: <br>1 = Cerah/Berawan sedikit ☀️ <br>2 = Berawan/berkabut ⛅ <br>3 = Hujan ringan 🌧️ <br>4 = Hujan deras/Salju ⛈️ |\n",
        "| **holiday**    | int (0/1) | 1 jika hari tersebut libur nasional, 0 jika bukan.                                                                                        |\n",
        "| **season**     | int       | Musim pada hari tersebut: <br>1 = Musim semi 🌸 <br>2 = Musim panas ☀️ <br>3 = Musim gugur 🍂 <br>4 = Musim dingin ❄️                     |\n",
        "| **atemp**      | float     | “Feeling temperature” alias temperatur yang dirasakan, dinormalisasi (0–1).                                                               |\n",
        "| **temp**       | float     | Temperatur aktual, juga dinormalisasi (0–1).                                                                                              |\n",
        "| **hr**         | int       | Jam pengamatan (0–23).                                                                                                                    |\n",
        "| **casual**     | int       | Jumlah penyewa sepeda yang **tidak terdaftar/member** (pengguna umum).                                                                    |\n",
        "| **registered** | int       | Jumlah penyewa sepeda yang **terdaftar/member**.                                                                                          |\n",
        "| **cnt**        | int       | Total jumlah penyewaan sepeda (`casual + registered`). Ini yang biasanya dijadikan **target** untuk prediksi.                             |\n"
      ]
    },
    {
      "cell_type": "code",
      "execution_count": null,
      "metadata": {
        "colab": {
          "base_uri": "https://localhost:8080/"
        },
        "id": "w-2nWRI2aEhi",
        "outputId": "8602a46e-2343-4198-faed-341386399cd8"
      },
      "outputs": [
        {
          "name": "stdout",
          "output_type": "stream",
          "text": [
            "<class 'pandas.core.frame.DataFrame'>\n",
            "RangeIndex: 12165 entries, 0 to 12164\n",
            "Data columns (total 11 columns):\n",
            " #   Column      Non-Null Count  Dtype  \n",
            "---  ------      --------------  -----  \n",
            " 0   dteday      12165 non-null  object \n",
            " 1   hum         12165 non-null  float64\n",
            " 2   weathersit  12165 non-null  int64  \n",
            " 3   holiday     12165 non-null  int64  \n",
            " 4   season      12165 non-null  int64  \n",
            " 5   atemp       12165 non-null  float64\n",
            " 6   temp        12165 non-null  float64\n",
            " 7   hr          12165 non-null  int64  \n",
            " 8   casual      12165 non-null  int64  \n",
            " 9   registered  12165 non-null  int64  \n",
            " 10  cnt         12165 non-null  int64  \n",
            "dtypes: float64(3), int64(7), object(1)\n",
            "memory usage: 1.0+ MB\n"
          ]
        }
      ],
      "source": [
        "df.info()"
      ]
    },
    {
      "cell_type": "markdown",
      "source": [
        "Menampilkan informasi tipe data dan jumlah missing value pada setiap kolom. Data ini memperlihatkan bahwa tidak ada missing values sama sekali. Semua 11 kolom sama-sama memiliki 12165 baris"
      ],
      "metadata": {
        "id": "uoxS8hC3kmgi"
      }
    },
    {
      "cell_type": "code",
      "execution_count": null,
      "metadata": {
        "colab": {
          "base_uri": "https://localhost:8080/",
          "height": 429
        },
        "id": "Pu-6aXNqvZAu",
        "outputId": "fd15b970-a663-4227-bf41-27d282ffad0f"
      },
      "outputs": [
        {
          "data": {
            "text/html": [
              "<div>\n",
              "<style scoped>\n",
              "    .dataframe tbody tr th:only-of-type {\n",
              "        vertical-align: middle;\n",
              "    }\n",
              "\n",
              "    .dataframe tbody tr th {\n",
              "        vertical-align: top;\n",
              "    }\n",
              "\n",
              "    .dataframe thead th {\n",
              "        text-align: right;\n",
              "    }\n",
              "</style>\n",
              "<table border=\"1\" class=\"dataframe\">\n",
              "  <thead>\n",
              "    <tr style=\"text-align: right;\">\n",
              "      <th></th>\n",
              "      <th>0</th>\n",
              "    </tr>\n",
              "  </thead>\n",
              "  <tbody>\n",
              "    <tr>\n",
              "      <th>dteday</th>\n",
              "      <td>0</td>\n",
              "    </tr>\n",
              "    <tr>\n",
              "      <th>hum</th>\n",
              "      <td>0</td>\n",
              "    </tr>\n",
              "    <tr>\n",
              "      <th>weathersit</th>\n",
              "      <td>0</td>\n",
              "    </tr>\n",
              "    <tr>\n",
              "      <th>holiday</th>\n",
              "      <td>0</td>\n",
              "    </tr>\n",
              "    <tr>\n",
              "      <th>season</th>\n",
              "      <td>0</td>\n",
              "    </tr>\n",
              "    <tr>\n",
              "      <th>atemp</th>\n",
              "      <td>0</td>\n",
              "    </tr>\n",
              "    <tr>\n",
              "      <th>temp</th>\n",
              "      <td>0</td>\n",
              "    </tr>\n",
              "    <tr>\n",
              "      <th>hr</th>\n",
              "      <td>0</td>\n",
              "    </tr>\n",
              "    <tr>\n",
              "      <th>casual</th>\n",
              "      <td>0</td>\n",
              "    </tr>\n",
              "    <tr>\n",
              "      <th>registered</th>\n",
              "      <td>0</td>\n",
              "    </tr>\n",
              "    <tr>\n",
              "      <th>cnt</th>\n",
              "      <td>0</td>\n",
              "    </tr>\n",
              "  </tbody>\n",
              "</table>\n",
              "</div><br><label><b>dtype:</b> int64</label>"
            ],
            "text/plain": [
              "dteday        0\n",
              "hum           0\n",
              "weathersit    0\n",
              "holiday       0\n",
              "season        0\n",
              "atemp         0\n",
              "temp          0\n",
              "hr            0\n",
              "casual        0\n",
              "registered    0\n",
              "cnt           0\n",
              "dtype: int64"
            ]
          },
          "execution_count": 11,
          "metadata": {},
          "output_type": "execute_result"
        }
      ],
      "source": [
        "df.isnull().sum()"
      ]
    },
    {
      "cell_type": "markdown",
      "source": [
        "Untuk lebih jelas dalam menampilkan jumlah nilai kosong (missing value) di setiap kolom."
      ],
      "metadata": {
        "id": "EfPySGy-kvp5"
      }
    },
    {
      "cell_type": "code",
      "execution_count": null,
      "metadata": {
        "colab": {
          "base_uri": "https://localhost:8080/"
        },
        "id": "PBeaiTOnvadR",
        "outputId": "4335da94-11f3-45ce-a09d-53d16b3f4fe8"
      },
      "outputs": [
        {
          "data": {
            "text/plain": [
              "np.int64(0)"
            ]
          },
          "execution_count": 12,
          "metadata": {},
          "output_type": "execute_result"
        }
      ],
      "source": [
        "df.duplicated().sum()"
      ]
    },
    {
      "cell_type": "markdown",
      "source": [
        "Menghitung jumlah baris duplikat pada dataset. Dalam data ini tidak terlihat adanya data duplikat"
      ],
      "metadata": {
        "id": "nNmL8patk0NB"
      }
    },
    {
      "cell_type": "markdown",
      "metadata": {
        "id": "mlKIEGJ_vrHw"
      },
      "source": [
        "#Data Cleaning"
      ]
    },
    {
      "cell_type": "code",
      "execution_count": null,
      "metadata": {
        "id": "XDAHXhvbvztX"
      },
      "outputs": [],
      "source": [
        "df['dteday'] = pd.to_datetime(df['dteday'])\n",
        "df['dt'] = pd.to_datetime(df['dteday'].dt.strftime('%Y-%m-%d') + ' ' + df['hr'].astype(str) + ':00:00')\n",
        "df = df.sort_values('dt').reset_index(drop=True).set_index('dt')\n",
        "df['cnt'] = df['casual'] + df['registered']"
      ]
    },
    {
      "cell_type": "markdown",
      "source": [
        "- Mengubah kolom tanggal ke format datetime.\n",
        "- Membuat kolom waktu lengkap (dt) dari tanggal dan jam.\n",
        "- Menjadikan kolom dt sebagai index dan mengurutkan data.\n",
        "- Membuat kolom jumlah rental total (cnt) dari casual dan registered."
      ],
      "metadata": {
        "id": "kaV3ai_ek6NB"
      }
    },
    {
      "cell_type": "code",
      "execution_count": null,
      "metadata": {
        "colab": {
          "base_uri": "https://localhost:8080/",
          "height": 490
        },
        "id": "_3E9y-_wuRjJ",
        "outputId": "05db0a87-8e71-4637-bb35-e48dc98e4705"
      },
      "outputs": [
        {
          "data": {
            "text/html": [
              "<div>\n",
              "<style scoped>\n",
              "    .dataframe tbody tr th:only-of-type {\n",
              "        vertical-align: middle;\n",
              "    }\n",
              "\n",
              "    .dataframe tbody tr th {\n",
              "        vertical-align: top;\n",
              "    }\n",
              "\n",
              "    .dataframe thead th {\n",
              "        text-align: right;\n",
              "    }\n",
              "</style>\n",
              "<table border=\"1\" class=\"dataframe\">\n",
              "  <thead>\n",
              "    <tr style=\"text-align: right;\">\n",
              "      <th></th>\n",
              "      <th>cnt</th>\n",
              "    </tr>\n",
              "    <tr>\n",
              "      <th>dt</th>\n",
              "      <th></th>\n",
              "    </tr>\n",
              "  </thead>\n",
              "  <tbody>\n",
              "    <tr>\n",
              "      <th>2011-01-01 00:00:00</th>\n",
              "      <td>16</td>\n",
              "    </tr>\n",
              "    <tr>\n",
              "      <th>2011-01-01 01:00:00</th>\n",
              "      <td>40</td>\n",
              "    </tr>\n",
              "    <tr>\n",
              "      <th>2011-01-01 02:00:00</th>\n",
              "      <td>32</td>\n",
              "    </tr>\n",
              "    <tr>\n",
              "      <th>2011-01-01 03:00:00</th>\n",
              "      <td>13</td>\n",
              "    </tr>\n",
              "    <tr>\n",
              "      <th>2011-01-01 04:00:00</th>\n",
              "      <td>1</td>\n",
              "    </tr>\n",
              "    <tr>\n",
              "      <th>...</th>\n",
              "      <td>...</td>\n",
              "    </tr>\n",
              "    <tr>\n",
              "      <th>2012-12-31 14:00:00</th>\n",
              "      <td>247</td>\n",
              "    </tr>\n",
              "    <tr>\n",
              "      <th>2012-12-31 16:00:00</th>\n",
              "      <td>214</td>\n",
              "    </tr>\n",
              "    <tr>\n",
              "      <th>2012-12-31 17:00:00</th>\n",
              "      <td>164</td>\n",
              "    </tr>\n",
              "    <tr>\n",
              "      <th>2012-12-31 19:00:00</th>\n",
              "      <td>119</td>\n",
              "    </tr>\n",
              "    <tr>\n",
              "      <th>2012-12-31 21:00:00</th>\n",
              "      <td>90</td>\n",
              "    </tr>\n",
              "  </tbody>\n",
              "</table>\n",
              "<p>12165 rows × 1 columns</p>\n",
              "</div><br><label><b>dtype:</b> int64</label>"
            ],
            "text/plain": [
              "dt\n",
              "2011-01-01 00:00:00     16\n",
              "2011-01-01 01:00:00     40\n",
              "2011-01-01 02:00:00     32\n",
              "2011-01-01 03:00:00     13\n",
              "2011-01-01 04:00:00      1\n",
              "                      ... \n",
              "2012-12-31 14:00:00    247\n",
              "2012-12-31 16:00:00    214\n",
              "2012-12-31 17:00:00    164\n",
              "2012-12-31 19:00:00    119\n",
              "2012-12-31 21:00:00     90\n",
              "Name: cnt, Length: 12165, dtype: int64"
            ]
          },
          "execution_count": 14,
          "metadata": {},
          "output_type": "execute_result"
        }
      ],
      "source": [
        "df['cnt']"
      ]
    },
    {
      "cell_type": "markdown",
      "source": [
        "Menampilkan kolom jumlah rental sepeda per jam sebagai hasil cleaning dan penambahan fitur."
      ],
      "metadata": {
        "id": "NOPvsjAdk_eH"
      }
    },
    {
      "cell_type": "markdown",
      "metadata": {
        "id": "xaE-35o-v1RH"
      },
      "source": [
        "#Feature Engineering (hourly)"
      ]
    },
    {
      "cell_type": "code",
      "execution_count": null,
      "metadata": {
        "id": "BqYtsTonv2Zu"
      },
      "outputs": [],
      "source": [
        "df['hour'] = df.index.hour\n",
        "df['dayofweek'] = df.index.dayofweek\n",
        "df['is_weekend'] = df['dayofweek'].isin([5,6]).astype(int)\n",
        "df['month'] = df.index.month\n",
        "df['is_rush'] = df['hour'].isin([7,8,9,16,17,18,19]).astype(int)"
      ]
    },
    {
      "cell_type": "markdown",
      "source": [
        "Menambahkan fitur waktu seperti jam, hari dalam minggu, apakah weekend, bulan, dan apakah jam sibuk (rush hour) untuk memperkaya data input ke model."
      ],
      "metadata": {
        "id": "TIp5_BLFlCcw"
      }
    },
    {
      "cell_type": "code",
      "execution_count": null,
      "metadata": {
        "id": "encWMYZ34qPD"
      },
      "outputs": [],
      "source": [
        "df['lag_1'] = df['cnt'].shift(1)\n",
        "df['lag_24'] = df['cnt'].shift(24)\n",
        "df['roll_mean_3'] = df['cnt'].shift(1).rolling(window=3, min_periods=1).mean()\n",
        "df['roll_mean_24'] = df['cnt'].shift(1).rolling(window=24, min_periods=1).mean()"
      ]
    },
    {
      "cell_type": "markdown",
      "source": [
        "- Menambahkan fitur lag dan rata-rata bergerak untuk menangkap pola historis peminjaman sepeda.\n",
        "- lag_k: nilai variabel pada k periode sebelumnya.\n",
        "- lag_1 → nilai 1 langkah/periode sebelumnya (misal, jam/tanggal kemarin).\n",
        "- lag_24 → nilai 24 langkah/periode sebelumnya (misal, kalau data hourly → nilai 24 jam yang lalu; kalau daily → nilai 24 hari yang lalu).\n",
        "\n",
        "- roll_k: nilai agregat (rolling statistic) dari jendela (window) sepanjang k periode terakhir. Bisa berupa rata-rata, median, std, dsb.\n",
        "- roll_1 → rata-rata dari 1 periode terakhir (praktis sama dengan nilai sekarang).\n",
        "- roll_24 → rata-rata dari 24 periode terakhir (misal, rata-rata 24 jam terakhir kalau data hourly).\n",
        "- Lag dan roll penting dalam analisis Time Series, karena lag dan rolling membantu model menangkap pola ketergantungan waktu (autokorelasi) dan tren jangka pendek/panjang dalam data time series, sehingga prediksi menjadi lebih akurat dan kontekstual"
      ],
      "metadata": {
        "id": "yUen9muOlDqq"
      }
    },
    {
      "cell_type": "code",
      "execution_count": null,
      "metadata": {
        "id": "QCo7rBO5wX11"
      },
      "outputs": [],
      "source": [
        "df_ml = df.copy()\n",
        "df_ml = df_ml.dropna(subset=['lag_1','lag_24','roll_mean_3','roll_mean_24'])"
      ]
    },
    {
      "cell_type": "markdown",
      "source": [
        "Menghapus baris yang memiliki missing value pada fitur lag dan rolling mean agar data siap digunakan untuk training model machine learning."
      ],
      "metadata": {
        "id": "_2CNaSmXlxJh"
      }
    },
    {
      "cell_type": "code",
      "execution_count": null,
      "metadata": {
        "colab": {
          "base_uri": "https://localhost:8080/",
          "height": 455
        },
        "id": "nvcaNOo2u7KC",
        "outputId": "c0625110-8131-46f3-e83b-f1bcf1572f3b"
      },
      "outputs": [
        {
          "data": {
            "application/vnd.google.colaboratory.intrinsic+json": {
              "summary": "{\n  \"name\": \"df_ml\",\n  \"rows\": 12141,\n  \"fields\": [\n    {\n      \"column\": \"dt\",\n      \"properties\": {\n        \"dtype\": \"date\",\n        \"min\": \"2011-01-02 13:00:00\",\n        \"max\": \"2012-12-31 21:00:00\",\n        \"num_unique_values\": 12141,\n        \"samples\": [\n          \"2012-07-19 19:00:00\",\n          \"2012-06-09 21:00:00\",\n          \"2011-05-19 19:00:00\"\n        ],\n        \"semantic_type\": \"\",\n        \"description\": \"\"\n      }\n    },\n    {\n      \"column\": \"dteday\",\n      \"properties\": {\n        \"dtype\": \"date\",\n        \"min\": \"2011-01-02 00:00:00\",\n        \"max\": \"2012-12-31 00:00:00\",\n        \"num_unique_values\": 730,\n        \"samples\": [\n          \"2012-04-14 00:00:00\",\n          \"2011-05-30 00:00:00\",\n          \"2011-10-31 00:00:00\"\n        ],\n        \"semantic_type\": \"\",\n        \"description\": \"\"\n      }\n    },\n    {\n      \"column\": \"hum\",\n      \"properties\": {\n        \"dtype\": \"number\",\n        \"std\": 0.19204944551957673,\n        \"min\": 0.0,\n        \"max\": 1.0,\n        \"num_unique_values\": 89,\n        \"samples\": [\n          0.62,\n          0.75,\n          0.93\n        ],\n        \"semantic_type\": \"\",\n        \"description\": \"\"\n      }\n    },\n    {\n      \"column\": \"weathersit\",\n      \"properties\": {\n        \"dtype\": \"number\",\n        \"std\": 0,\n        \"min\": 1,\n        \"max\": 4,\n        \"num_unique_values\": 4,\n        \"samples\": [\n          3,\n          4,\n          2\n        ],\n        \"semantic_type\": \"\",\n        \"description\": \"\"\n      }\n    },\n    {\n      \"column\": \"holiday\",\n      \"properties\": {\n        \"dtype\": \"number\",\n        \"std\": 0,\n        \"min\": 0,\n        \"max\": 1,\n        \"num_unique_values\": 2,\n        \"samples\": [\n          1,\n          0\n        ],\n        \"semantic_type\": \"\",\n        \"description\": \"\"\n      }\n    },\n    {\n      \"column\": \"season\",\n      \"properties\": {\n        \"dtype\": \"number\",\n        \"std\": 1,\n        \"min\": 1,\n        \"max\": 4,\n        \"num_unique_values\": 4,\n        \"samples\": [\n          2,\n          4\n        ],\n        \"semantic_type\": \"\",\n        \"description\": \"\"\n      }\n    },\n    {\n      \"column\": \"atemp\",\n      \"properties\": {\n        \"dtype\": \"number\",\n        \"std\": 0.17195094375720743,\n        \"min\": 0.0,\n        \"max\": 1.0,\n        \"num_unique_values\": 65,\n        \"samples\": [\n          0.803,\n          0.9242\n        ],\n        \"semantic_type\": \"\",\n        \"description\": \"\"\n      }\n    },\n    {\n      \"column\": \"temp\",\n      \"properties\": {\n        \"dtype\": \"number\",\n        \"std\": 0.19256137971990253,\n        \"min\": 0.02,\n        \"max\": 1.0,\n        \"num_unique_values\": 50,\n        \"samples\": [\n          0.08,\n          0.82\n        ],\n        \"semantic_type\": \"\",\n        \"description\": \"\"\n      }\n    },\n    {\n      \"column\": \"hr\",\n      \"properties\": {\n        \"dtype\": \"number\",\n        \"std\": 6,\n        \"min\": 0,\n        \"max\": 23,\n        \"num_unique_values\": 24,\n        \"samples\": [\n          7,\n          22\n        ],\n        \"semantic_type\": \"\",\n        \"description\": \"\"\n      }\n    },\n    {\n      \"column\": \"casual\",\n      \"properties\": {\n        \"dtype\": \"number\",\n        \"std\": 49,\n        \"min\": 0,\n        \"max\": 362,\n        \"num_unique_values\": 305,\n        \"samples\": [\n          159,\n          146\n        ],\n        \"semantic_type\": \"\",\n        \"description\": \"\"\n      }\n    },\n    {\n      \"column\": \"registered\",\n      \"properties\": {\n        \"dtype\": \"number\",\n        \"std\": 151,\n        \"min\": 0,\n        \"max\": 876,\n        \"num_unique_values\": 742,\n        \"samples\": [\n          75,\n          121\n        ],\n        \"semantic_type\": \"\",\n        \"description\": \"\"\n      }\n    },\n    {\n      \"column\": \"cnt\",\n      \"properties\": {\n        \"dtype\": \"number\",\n        \"std\": 181,\n        \"min\": 1,\n        \"max\": 970,\n        \"num_unique_values\": 830,\n        \"samples\": [\n          395,\n          327\n        ],\n        \"semantic_type\": \"\",\n        \"description\": \"\"\n      }\n    },\n    {\n      \"column\": \"hour\",\n      \"properties\": {\n        \"dtype\": \"int32\",\n        \"num_unique_values\": 24,\n        \"samples\": [\n          7,\n          22\n        ],\n        \"semantic_type\": \"\",\n        \"description\": \"\"\n      }\n    },\n    {\n      \"column\": \"dayofweek\",\n      \"properties\": {\n        \"dtype\": \"int32\",\n        \"num_unique_values\": 7,\n        \"samples\": [\n          6,\n          0\n        ],\n        \"semantic_type\": \"\",\n        \"description\": \"\"\n      }\n    },\n    {\n      \"column\": \"is_weekend\",\n      \"properties\": {\n        \"dtype\": \"number\",\n        \"std\": 0,\n        \"min\": 0,\n        \"max\": 1,\n        \"num_unique_values\": 2,\n        \"samples\": [\n          0,\n          1\n        ],\n        \"semantic_type\": \"\",\n        \"description\": \"\"\n      }\n    },\n    {\n      \"column\": \"month\",\n      \"properties\": {\n        \"dtype\": \"int32\",\n        \"num_unique_values\": 12,\n        \"samples\": [\n          11,\n          10\n        ],\n        \"semantic_type\": \"\",\n        \"description\": \"\"\n      }\n    },\n    {\n      \"column\": \"is_rush\",\n      \"properties\": {\n        \"dtype\": \"number\",\n        \"std\": 0,\n        \"min\": 0,\n        \"max\": 1,\n        \"num_unique_values\": 2,\n        \"samples\": [\n          1,\n          0\n        ],\n        \"semantic_type\": \"\",\n        \"description\": \"\"\n      }\n    },\n    {\n      \"column\": \"lag_1\",\n      \"properties\": {\n        \"dtype\": \"number\",\n        \"std\": 181.26294309642108,\n        \"min\": 1.0,\n        \"max\": 970.0,\n        \"num_unique_values\": 830,\n        \"samples\": [\n          395.0,\n          327.0\n        ],\n        \"semantic_type\": \"\",\n        \"description\": \"\"\n      }\n    },\n    {\n      \"column\": \"lag_24\",\n      \"properties\": {\n        \"dtype\": \"number\",\n        \"std\": 181.342851036482,\n        \"min\": 1.0,\n        \"max\": 970.0,\n        \"num_unique_values\": 830,\n        \"samples\": [\n          395.0,\n          327.0\n        ],\n        \"semantic_type\": \"\",\n        \"description\": \"\"\n      }\n    },\n    {\n      \"column\": \"roll_mean_3\",\n      \"properties\": {\n        \"dtype\": \"number\",\n        \"std\": 158.5893049652613,\n        \"min\": 1.3333333333333333,\n        \"max\": 798.0,\n        \"num_unique_values\": 1850,\n        \"samples\": [\n          32.0,\n          556.0\n        ],\n        \"semantic_type\": \"\",\n        \"description\": \"\"\n      }\n    },\n    {\n      \"column\": \"roll_mean_24\",\n      \"properties\": {\n        \"dtype\": \"number\",\n        \"std\": 82.48732555790033,\n        \"min\": 15.0,\n        \"max\": 449.0,\n        \"num_unique_values\": 6050,\n        \"samples\": [\n          192.875,\n          234.33333333333334\n        ],\n        \"semantic_type\": \"\",\n        \"description\": \"\"\n      }\n    }\n  ]\n}",
              "type": "dataframe",
              "variable_name": "df_ml"
            },
            "text/html": [
              "\n",
              "  <div id=\"df-5310e257-6b2f-4e01-92ad-24ea5b01ab5f\" class=\"colab-df-container\">\n",
              "    <div>\n",
              "<style scoped>\n",
              "    .dataframe tbody tr th:only-of-type {\n",
              "        vertical-align: middle;\n",
              "    }\n",
              "\n",
              "    .dataframe tbody tr th {\n",
              "        vertical-align: top;\n",
              "    }\n",
              "\n",
              "    .dataframe thead th {\n",
              "        text-align: right;\n",
              "    }\n",
              "</style>\n",
              "<table border=\"1\" class=\"dataframe\">\n",
              "  <thead>\n",
              "    <tr style=\"text-align: right;\">\n",
              "      <th></th>\n",
              "      <th>dteday</th>\n",
              "      <th>hum</th>\n",
              "      <th>weathersit</th>\n",
              "      <th>holiday</th>\n",
              "      <th>season</th>\n",
              "      <th>atemp</th>\n",
              "      <th>temp</th>\n",
              "      <th>hr</th>\n",
              "      <th>casual</th>\n",
              "      <th>registered</th>\n",
              "      <th>cnt</th>\n",
              "      <th>hour</th>\n",
              "      <th>dayofweek</th>\n",
              "      <th>is_weekend</th>\n",
              "      <th>month</th>\n",
              "      <th>is_rush</th>\n",
              "      <th>lag_1</th>\n",
              "      <th>lag_24</th>\n",
              "      <th>roll_mean_3</th>\n",
              "      <th>roll_mean_24</th>\n",
              "    </tr>\n",
              "    <tr>\n",
              "      <th>dt</th>\n",
              "      <th></th>\n",
              "      <th></th>\n",
              "      <th></th>\n",
              "      <th></th>\n",
              "      <th></th>\n",
              "      <th></th>\n",
              "      <th></th>\n",
              "      <th></th>\n",
              "      <th></th>\n",
              "      <th></th>\n",
              "      <th></th>\n",
              "      <th></th>\n",
              "      <th></th>\n",
              "      <th></th>\n",
              "      <th></th>\n",
              "      <th></th>\n",
              "      <th></th>\n",
              "      <th></th>\n",
              "      <th></th>\n",
              "      <th></th>\n",
              "    </tr>\n",
              "  </thead>\n",
              "  <tbody>\n",
              "    <tr>\n",
              "      <th>2011-01-02 13:00:00</th>\n",
              "      <td>2011-01-02</td>\n",
              "      <td>0.66</td>\n",
              "      <td>2</td>\n",
              "      <td>0</td>\n",
              "      <td>1</td>\n",
              "      <td>0.3485</td>\n",
              "      <td>0.36</td>\n",
              "      <td>13</td>\n",
              "      <td>11</td>\n",
              "      <td>64</td>\n",
              "      <td>75</td>\n",
              "      <td>13</td>\n",
              "      <td>6</td>\n",
              "      <td>1</td>\n",
              "      <td>1</td>\n",
              "      <td>0</td>\n",
              "      <td>70.0</td>\n",
              "      <td>16.0</td>\n",
              "      <td>30.333333</td>\n",
              "      <td>31.250000</td>\n",
              "    </tr>\n",
              "    <tr>\n",
              "      <th>2011-01-02 16:00:00</th>\n",
              "      <td>2011-01-02</td>\n",
              "      <td>0.71</td>\n",
              "      <td>3</td>\n",
              "      <td>0</td>\n",
              "      <td>1</td>\n",
              "      <td>0.3333</td>\n",
              "      <td>0.34</td>\n",
              "      <td>16</td>\n",
              "      <td>9</td>\n",
              "      <td>67</td>\n",
              "      <td>76</td>\n",
              "      <td>16</td>\n",
              "      <td>6</td>\n",
              "      <td>1</td>\n",
              "      <td>1</td>\n",
              "      <td>1</td>\n",
              "      <td>75.0</td>\n",
              "      <td>40.0</td>\n",
              "      <td>55.000000</td>\n",
              "      <td>33.708333</td>\n",
              "    </tr>\n",
              "    <tr>\n",
              "      <th>2011-01-02 17:00:00</th>\n",
              "      <td>2011-01-02</td>\n",
              "      <td>0.57</td>\n",
              "      <td>1</td>\n",
              "      <td>0</td>\n",
              "      <td>1</td>\n",
              "      <td>0.3333</td>\n",
              "      <td>0.34</td>\n",
              "      <td>17</td>\n",
              "      <td>7</td>\n",
              "      <td>58</td>\n",
              "      <td>65</td>\n",
              "      <td>17</td>\n",
              "      <td>6</td>\n",
              "      <td>1</td>\n",
              "      <td>1</td>\n",
              "      <td>1</td>\n",
              "      <td>76.0</td>\n",
              "      <td>32.0</td>\n",
              "      <td>73.666667</td>\n",
              "      <td>35.208333</td>\n",
              "    </tr>\n",
              "    <tr>\n",
              "      <th>2011-01-02 18:00:00</th>\n",
              "      <td>2011-01-02</td>\n",
              "      <td>0.46</td>\n",
              "      <td>2</td>\n",
              "      <td>0</td>\n",
              "      <td>1</td>\n",
              "      <td>0.3333</td>\n",
              "      <td>0.36</td>\n",
              "      <td>18</td>\n",
              "      <td>10</td>\n",
              "      <td>43</td>\n",
              "      <td>53</td>\n",
              "      <td>18</td>\n",
              "      <td>6</td>\n",
              "      <td>1</td>\n",
              "      <td>1</td>\n",
              "      <td>1</td>\n",
              "      <td>65.0</td>\n",
              "      <td>13.0</td>\n",
              "      <td>72.000000</td>\n",
              "      <td>36.583333</td>\n",
              "    </tr>\n",
              "    <tr>\n",
              "      <th>2011-01-02 20:00:00</th>\n",
              "      <td>2011-01-02</td>\n",
              "      <td>0.39</td>\n",
              "      <td>1</td>\n",
              "      <td>0</td>\n",
              "      <td>1</td>\n",
              "      <td>0.2727</td>\n",
              "      <td>0.30</td>\n",
              "      <td>20</td>\n",
              "      <td>5</td>\n",
              "      <td>17</td>\n",
              "      <td>22</td>\n",
              "      <td>20</td>\n",
              "      <td>6</td>\n",
              "      <td>1</td>\n",
              "      <td>1</td>\n",
              "      <td>0</td>\n",
              "      <td>53.0</td>\n",
              "      <td>1.0</td>\n",
              "      <td>64.666667</td>\n",
              "      <td>38.250000</td>\n",
              "    </tr>\n",
              "    <tr>\n",
              "      <th>...</th>\n",
              "      <td>...</td>\n",
              "      <td>...</td>\n",
              "      <td>...</td>\n",
              "      <td>...</td>\n",
              "      <td>...</td>\n",
              "      <td>...</td>\n",
              "      <td>...</td>\n",
              "      <td>...</td>\n",
              "      <td>...</td>\n",
              "      <td>...</td>\n",
              "      <td>...</td>\n",
              "      <td>...</td>\n",
              "      <td>...</td>\n",
              "      <td>...</td>\n",
              "      <td>...</td>\n",
              "      <td>...</td>\n",
              "      <td>...</td>\n",
              "      <td>...</td>\n",
              "      <td>...</td>\n",
              "      <td>...</td>\n",
              "    </tr>\n",
              "    <tr>\n",
              "      <th>2012-12-31 14:00:00</th>\n",
              "      <td>2012-12-31</td>\n",
              "      <td>0.45</td>\n",
              "      <td>2</td>\n",
              "      <td>0</td>\n",
              "      <td>1</td>\n",
              "      <td>0.2727</td>\n",
              "      <td>0.28</td>\n",
              "      <td>14</td>\n",
              "      <td>62</td>\n",
              "      <td>185</td>\n",
              "      <td>247</td>\n",
              "      <td>14</td>\n",
              "      <td>0</td>\n",
              "      <td>0</td>\n",
              "      <td>12</td>\n",
              "      <td>0</td>\n",
              "      <td>203.0</td>\n",
              "      <td>60.0</td>\n",
              "      <td>160.000000</td>\n",
              "      <td>85.958333</td>\n",
              "    </tr>\n",
              "    <tr>\n",
              "      <th>2012-12-31 16:00:00</th>\n",
              "      <td>2012-12-31</td>\n",
              "      <td>0.48</td>\n",
              "      <td>2</td>\n",
              "      <td>0</td>\n",
              "      <td>1</td>\n",
              "      <td>0.2576</td>\n",
              "      <td>0.26</td>\n",
              "      <td>16</td>\n",
              "      <td>30</td>\n",
              "      <td>184</td>\n",
              "      <td>214</td>\n",
              "      <td>16</td>\n",
              "      <td>0</td>\n",
              "      <td>0</td>\n",
              "      <td>12</td>\n",
              "      <td>1</td>\n",
              "      <td>247.0</td>\n",
              "      <td>54.0</td>\n",
              "      <td>190.000000</td>\n",
              "      <td>93.750000</td>\n",
              "    </tr>\n",
              "    <tr>\n",
              "      <th>2012-12-31 17:00:00</th>\n",
              "      <td>2012-12-31</td>\n",
              "      <td>0.48</td>\n",
              "      <td>2</td>\n",
              "      <td>0</td>\n",
              "      <td>1</td>\n",
              "      <td>0.2879</td>\n",
              "      <td>0.26</td>\n",
              "      <td>17</td>\n",
              "      <td>14</td>\n",
              "      <td>150</td>\n",
              "      <td>164</td>\n",
              "      <td>17</td>\n",
              "      <td>0</td>\n",
              "      <td>0</td>\n",
              "      <td>12</td>\n",
              "      <td>1</td>\n",
              "      <td>214.0</td>\n",
              "      <td>32.0</td>\n",
              "      <td>221.333333</td>\n",
              "      <td>100.416667</td>\n",
              "    </tr>\n",
              "    <tr>\n",
              "      <th>2012-12-31 19:00:00</th>\n",
              "      <td>2012-12-31</td>\n",
              "      <td>0.60</td>\n",
              "      <td>2</td>\n",
              "      <td>0</td>\n",
              "      <td>1</td>\n",
              "      <td>0.2576</td>\n",
              "      <td>0.26</td>\n",
              "      <td>19</td>\n",
              "      <td>11</td>\n",
              "      <td>108</td>\n",
              "      <td>119</td>\n",
              "      <td>19</td>\n",
              "      <td>0</td>\n",
              "      <td>0</td>\n",
              "      <td>12</td>\n",
              "      <td>1</td>\n",
              "      <td>164.0</td>\n",
              "      <td>41.0</td>\n",
              "      <td>208.333333</td>\n",
              "      <td>105.916667</td>\n",
              "    </tr>\n",
              "    <tr>\n",
              "      <th>2012-12-31 21:00:00</th>\n",
              "      <td>2012-12-31</td>\n",
              "      <td>0.60</td>\n",
              "      <td>1</td>\n",
              "      <td>0</td>\n",
              "      <td>1</td>\n",
              "      <td>0.2576</td>\n",
              "      <td>0.26</td>\n",
              "      <td>21</td>\n",
              "      <td>7</td>\n",
              "      <td>83</td>\n",
              "      <td>90</td>\n",
              "      <td>21</td>\n",
              "      <td>0</td>\n",
              "      <td>0</td>\n",
              "      <td>12</td>\n",
              "      <td>0</td>\n",
              "      <td>119.0</td>\n",
              "      <td>28.0</td>\n",
              "      <td>165.666667</td>\n",
              "      <td>109.166667</td>\n",
              "    </tr>\n",
              "  </tbody>\n",
              "</table>\n",
              "<p>12141 rows × 20 columns</p>\n",
              "</div>\n",
              "    <div class=\"colab-df-buttons\">\n",
              "\n",
              "  <div class=\"colab-df-container\">\n",
              "    <button class=\"colab-df-convert\" onclick=\"convertToInteractive('df-5310e257-6b2f-4e01-92ad-24ea5b01ab5f')\"\n",
              "            title=\"Convert this dataframe to an interactive table.\"\n",
              "            style=\"display:none;\">\n",
              "\n",
              "  <svg xmlns=\"http://www.w3.org/2000/svg\" height=\"24px\" viewBox=\"0 -960 960 960\">\n",
              "    <path d=\"M120-120v-720h720v720H120Zm60-500h600v-160H180v160Zm220 220h160v-160H400v160Zm0 220h160v-160H400v160ZM180-400h160v-160H180v160Zm440 0h160v-160H620v160ZM180-180h160v-160H180v160Zm440 0h160v-160H620v160Z\"/>\n",
              "  </svg>\n",
              "    </button>\n",
              "\n",
              "  <style>\n",
              "    .colab-df-container {\n",
              "      display:flex;\n",
              "      gap: 12px;\n",
              "    }\n",
              "\n",
              "    .colab-df-convert {\n",
              "      background-color: #E8F0FE;\n",
              "      border: none;\n",
              "      border-radius: 50%;\n",
              "      cursor: pointer;\n",
              "      display: none;\n",
              "      fill: #1967D2;\n",
              "      height: 32px;\n",
              "      padding: 0 0 0 0;\n",
              "      width: 32px;\n",
              "    }\n",
              "\n",
              "    .colab-df-convert:hover {\n",
              "      background-color: #E2EBFA;\n",
              "      box-shadow: 0px 1px 2px rgba(60, 64, 67, 0.3), 0px 1px 3px 1px rgba(60, 64, 67, 0.15);\n",
              "      fill: #174EA6;\n",
              "    }\n",
              "\n",
              "    .colab-df-buttons div {\n",
              "      margin-bottom: 4px;\n",
              "    }\n",
              "\n",
              "    [theme=dark] .colab-df-convert {\n",
              "      background-color: #3B4455;\n",
              "      fill: #D2E3FC;\n",
              "    }\n",
              "\n",
              "    [theme=dark] .colab-df-convert:hover {\n",
              "      background-color: #434B5C;\n",
              "      box-shadow: 0px 1px 3px 1px rgba(0, 0, 0, 0.15);\n",
              "      filter: drop-shadow(0px 1px 2px rgba(0, 0, 0, 0.3));\n",
              "      fill: #FFFFFF;\n",
              "    }\n",
              "  </style>\n",
              "\n",
              "    <script>\n",
              "      const buttonEl =\n",
              "        document.querySelector('#df-5310e257-6b2f-4e01-92ad-24ea5b01ab5f button.colab-df-convert');\n",
              "      buttonEl.style.display =\n",
              "        google.colab.kernel.accessAllowed ? 'block' : 'none';\n",
              "\n",
              "      async function convertToInteractive(key) {\n",
              "        const element = document.querySelector('#df-5310e257-6b2f-4e01-92ad-24ea5b01ab5f');\n",
              "        const dataTable =\n",
              "          await google.colab.kernel.invokeFunction('convertToInteractive',\n",
              "                                                    [key], {});\n",
              "        if (!dataTable) return;\n",
              "\n",
              "        const docLinkHtml = 'Like what you see? Visit the ' +\n",
              "          '<a target=\"_blank\" href=https://colab.research.google.com/notebooks/data_table.ipynb>data table notebook</a>'\n",
              "          + ' to learn more about interactive tables.';\n",
              "        element.innerHTML = '';\n",
              "        dataTable['output_type'] = 'display_data';\n",
              "        await google.colab.output.renderOutput(dataTable, element);\n",
              "        const docLink = document.createElement('div');\n",
              "        docLink.innerHTML = docLinkHtml;\n",
              "        element.appendChild(docLink);\n",
              "      }\n",
              "    </script>\n",
              "  </div>\n",
              "\n",
              "\n",
              "    <div id=\"df-910be933-38d3-4618-b3fe-829a9abe2072\">\n",
              "      <button class=\"colab-df-quickchart\" onclick=\"quickchart('df-910be933-38d3-4618-b3fe-829a9abe2072')\"\n",
              "                title=\"Suggest charts\"\n",
              "                style=\"display:none;\">\n",
              "\n",
              "<svg xmlns=\"http://www.w3.org/2000/svg\" height=\"24px\"viewBox=\"0 0 24 24\"\n",
              "     width=\"24px\">\n",
              "    <g>\n",
              "        <path d=\"M19 3H5c-1.1 0-2 .9-2 2v14c0 1.1.9 2 2 2h14c1.1 0 2-.9 2-2V5c0-1.1-.9-2-2-2zM9 17H7v-7h2v7zm4 0h-2V7h2v10zm4 0h-2v-4h2v4z\"/>\n",
              "    </g>\n",
              "</svg>\n",
              "      </button>\n",
              "\n",
              "<style>\n",
              "  .colab-df-quickchart {\n",
              "      --bg-color: #E8F0FE;\n",
              "      --fill-color: #1967D2;\n",
              "      --hover-bg-color: #E2EBFA;\n",
              "      --hover-fill-color: #174EA6;\n",
              "      --disabled-fill-color: #AAA;\n",
              "      --disabled-bg-color: #DDD;\n",
              "  }\n",
              "\n",
              "  [theme=dark] .colab-df-quickchart {\n",
              "      --bg-color: #3B4455;\n",
              "      --fill-color: #D2E3FC;\n",
              "      --hover-bg-color: #434B5C;\n",
              "      --hover-fill-color: #FFFFFF;\n",
              "      --disabled-bg-color: #3B4455;\n",
              "      --disabled-fill-color: #666;\n",
              "  }\n",
              "\n",
              "  .colab-df-quickchart {\n",
              "    background-color: var(--bg-color);\n",
              "    border: none;\n",
              "    border-radius: 50%;\n",
              "    cursor: pointer;\n",
              "    display: none;\n",
              "    fill: var(--fill-color);\n",
              "    height: 32px;\n",
              "    padding: 0;\n",
              "    width: 32px;\n",
              "  }\n",
              "\n",
              "  .colab-df-quickchart:hover {\n",
              "    background-color: var(--hover-bg-color);\n",
              "    box-shadow: 0 1px 2px rgba(60, 64, 67, 0.3), 0 1px 3px 1px rgba(60, 64, 67, 0.15);\n",
              "    fill: var(--button-hover-fill-color);\n",
              "  }\n",
              "\n",
              "  .colab-df-quickchart-complete:disabled,\n",
              "  .colab-df-quickchart-complete:disabled:hover {\n",
              "    background-color: var(--disabled-bg-color);\n",
              "    fill: var(--disabled-fill-color);\n",
              "    box-shadow: none;\n",
              "  }\n",
              "\n",
              "  .colab-df-spinner {\n",
              "    border: 2px solid var(--fill-color);\n",
              "    border-color: transparent;\n",
              "    border-bottom-color: var(--fill-color);\n",
              "    animation:\n",
              "      spin 1s steps(1) infinite;\n",
              "  }\n",
              "\n",
              "  @keyframes spin {\n",
              "    0% {\n",
              "      border-color: transparent;\n",
              "      border-bottom-color: var(--fill-color);\n",
              "      border-left-color: var(--fill-color);\n",
              "    }\n",
              "    20% {\n",
              "      border-color: transparent;\n",
              "      border-left-color: var(--fill-color);\n",
              "      border-top-color: var(--fill-color);\n",
              "    }\n",
              "    30% {\n",
              "      border-color: transparent;\n",
              "      border-left-color: var(--fill-color);\n",
              "      border-top-color: var(--fill-color);\n",
              "      border-right-color: var(--fill-color);\n",
              "    }\n",
              "    40% {\n",
              "      border-color: transparent;\n",
              "      border-right-color: var(--fill-color);\n",
              "      border-top-color: var(--fill-color);\n",
              "    }\n",
              "    60% {\n",
              "      border-color: transparent;\n",
              "      border-right-color: var(--fill-color);\n",
              "    }\n",
              "    80% {\n",
              "      border-color: transparent;\n",
              "      border-right-color: var(--fill-color);\n",
              "      border-bottom-color: var(--fill-color);\n",
              "    }\n",
              "    90% {\n",
              "      border-color: transparent;\n",
              "      border-bottom-color: var(--fill-color);\n",
              "    }\n",
              "  }\n",
              "</style>\n",
              "\n",
              "      <script>\n",
              "        async function quickchart(key) {\n",
              "          const quickchartButtonEl =\n",
              "            document.querySelector('#' + key + ' button');\n",
              "          quickchartButtonEl.disabled = true;  // To prevent multiple clicks.\n",
              "          quickchartButtonEl.classList.add('colab-df-spinner');\n",
              "          try {\n",
              "            const charts = await google.colab.kernel.invokeFunction(\n",
              "                'suggestCharts', [key], {});\n",
              "          } catch (error) {\n",
              "            console.error('Error during call to suggestCharts:', error);\n",
              "          }\n",
              "          quickchartButtonEl.classList.remove('colab-df-spinner');\n",
              "          quickchartButtonEl.classList.add('colab-df-quickchart-complete');\n",
              "        }\n",
              "        (() => {\n",
              "          let quickchartButtonEl =\n",
              "            document.querySelector('#df-910be933-38d3-4618-b3fe-829a9abe2072 button');\n",
              "          quickchartButtonEl.style.display =\n",
              "            google.colab.kernel.accessAllowed ? 'block' : 'none';\n",
              "        })();\n",
              "      </script>\n",
              "    </div>\n",
              "\n",
              "  <div id=\"id_ed30b208-c907-4232-936e-c7192a129ce3\">\n",
              "    <style>\n",
              "      .colab-df-generate {\n",
              "        background-color: #E8F0FE;\n",
              "        border: none;\n",
              "        border-radius: 50%;\n",
              "        cursor: pointer;\n",
              "        display: none;\n",
              "        fill: #1967D2;\n",
              "        height: 32px;\n",
              "        padding: 0 0 0 0;\n",
              "        width: 32px;\n",
              "      }\n",
              "\n",
              "      .colab-df-generate:hover {\n",
              "        background-color: #E2EBFA;\n",
              "        box-shadow: 0px 1px 2px rgba(60, 64, 67, 0.3), 0px 1px 3px 1px rgba(60, 64, 67, 0.15);\n",
              "        fill: #174EA6;\n",
              "      }\n",
              "\n",
              "      [theme=dark] .colab-df-generate {\n",
              "        background-color: #3B4455;\n",
              "        fill: #D2E3FC;\n",
              "      }\n",
              "\n",
              "      [theme=dark] .colab-df-generate:hover {\n",
              "        background-color: #434B5C;\n",
              "        box-shadow: 0px 1px 3px 1px rgba(0, 0, 0, 0.15);\n",
              "        filter: drop-shadow(0px 1px 2px rgba(0, 0, 0, 0.3));\n",
              "        fill: #FFFFFF;\n",
              "      }\n",
              "    </style>\n",
              "    <button class=\"colab-df-generate\" onclick=\"generateWithVariable('df_ml')\"\n",
              "            title=\"Generate code using this dataframe.\"\n",
              "            style=\"display:none;\">\n",
              "\n",
              "  <svg xmlns=\"http://www.w3.org/2000/svg\" height=\"24px\"viewBox=\"0 0 24 24\"\n",
              "       width=\"24px\">\n",
              "    <path d=\"M7,19H8.4L18.45,9,17,7.55,7,17.6ZM5,21V16.75L18.45,3.32a2,2,0,0,1,2.83,0l1.4,1.43a1.91,1.91,0,0,1,.58,1.4,1.91,1.91,0,0,1-.58,1.4L9.25,21ZM18.45,9,17,7.55Zm-12,3A5.31,5.31,0,0,0,4.9,8.1,5.31,5.31,0,0,0,1,6.5,5.31,5.31,0,0,0,4.9,4.9,5.31,5.31,0,0,0,6.5,1,5.31,5.31,0,0,0,8.1,4.9,5.31,5.31,0,0,0,12,6.5,5.46,5.46,0,0,0,6.5,12Z\"/>\n",
              "  </svg>\n",
              "    </button>\n",
              "    <script>\n",
              "      (() => {\n",
              "      const buttonEl =\n",
              "        document.querySelector('#id_ed30b208-c907-4232-936e-c7192a129ce3 button.colab-df-generate');\n",
              "      buttonEl.style.display =\n",
              "        google.colab.kernel.accessAllowed ? 'block' : 'none';\n",
              "\n",
              "      buttonEl.onclick = () => {\n",
              "        google.colab.notebook.generateWithVariable('df_ml');\n",
              "      }\n",
              "      })();\n",
              "    </script>\n",
              "  </div>\n",
              "\n",
              "    </div>\n",
              "  </div>\n"
            ],
            "text/plain": [
              "                        dteday   hum  weathersit  holiday  season   atemp  \\\n",
              "dt                                                                          \n",
              "2011-01-02 13:00:00 2011-01-02  0.66           2        0       1  0.3485   \n",
              "2011-01-02 16:00:00 2011-01-02  0.71           3        0       1  0.3333   \n",
              "2011-01-02 17:00:00 2011-01-02  0.57           1        0       1  0.3333   \n",
              "2011-01-02 18:00:00 2011-01-02  0.46           2        0       1  0.3333   \n",
              "2011-01-02 20:00:00 2011-01-02  0.39           1        0       1  0.2727   \n",
              "...                        ...   ...         ...      ...     ...     ...   \n",
              "2012-12-31 14:00:00 2012-12-31  0.45           2        0       1  0.2727   \n",
              "2012-12-31 16:00:00 2012-12-31  0.48           2        0       1  0.2576   \n",
              "2012-12-31 17:00:00 2012-12-31  0.48           2        0       1  0.2879   \n",
              "2012-12-31 19:00:00 2012-12-31  0.60           2        0       1  0.2576   \n",
              "2012-12-31 21:00:00 2012-12-31  0.60           1        0       1  0.2576   \n",
              "\n",
              "                     temp  hr  casual  registered  cnt  hour  dayofweek  \\\n",
              "dt                                                                        \n",
              "2011-01-02 13:00:00  0.36  13      11          64   75    13          6   \n",
              "2011-01-02 16:00:00  0.34  16       9          67   76    16          6   \n",
              "2011-01-02 17:00:00  0.34  17       7          58   65    17          6   \n",
              "2011-01-02 18:00:00  0.36  18      10          43   53    18          6   \n",
              "2011-01-02 20:00:00  0.30  20       5          17   22    20          6   \n",
              "...                   ...  ..     ...         ...  ...   ...        ...   \n",
              "2012-12-31 14:00:00  0.28  14      62         185  247    14          0   \n",
              "2012-12-31 16:00:00  0.26  16      30         184  214    16          0   \n",
              "2012-12-31 17:00:00  0.26  17      14         150  164    17          0   \n",
              "2012-12-31 19:00:00  0.26  19      11         108  119    19          0   \n",
              "2012-12-31 21:00:00  0.26  21       7          83   90    21          0   \n",
              "\n",
              "                     is_weekend  month  is_rush  lag_1  lag_24  roll_mean_3  \\\n",
              "dt                                                                            \n",
              "2011-01-02 13:00:00           1      1        0   70.0    16.0    30.333333   \n",
              "2011-01-02 16:00:00           1      1        1   75.0    40.0    55.000000   \n",
              "2011-01-02 17:00:00           1      1        1   76.0    32.0    73.666667   \n",
              "2011-01-02 18:00:00           1      1        1   65.0    13.0    72.000000   \n",
              "2011-01-02 20:00:00           1      1        0   53.0     1.0    64.666667   \n",
              "...                         ...    ...      ...    ...     ...          ...   \n",
              "2012-12-31 14:00:00           0     12        0  203.0    60.0   160.000000   \n",
              "2012-12-31 16:00:00           0     12        1  247.0    54.0   190.000000   \n",
              "2012-12-31 17:00:00           0     12        1  214.0    32.0   221.333333   \n",
              "2012-12-31 19:00:00           0     12        1  164.0    41.0   208.333333   \n",
              "2012-12-31 21:00:00           0     12        0  119.0    28.0   165.666667   \n",
              "\n",
              "                     roll_mean_24  \n",
              "dt                                 \n",
              "2011-01-02 13:00:00     31.250000  \n",
              "2011-01-02 16:00:00     33.708333  \n",
              "2011-01-02 17:00:00     35.208333  \n",
              "2011-01-02 18:00:00     36.583333  \n",
              "2011-01-02 20:00:00     38.250000  \n",
              "...                           ...  \n",
              "2012-12-31 14:00:00     85.958333  \n",
              "2012-12-31 16:00:00     93.750000  \n",
              "2012-12-31 17:00:00    100.416667  \n",
              "2012-12-31 19:00:00    105.916667  \n",
              "2012-12-31 21:00:00    109.166667  \n",
              "\n",
              "[12141 rows x 20 columns]"
            ]
          },
          "execution_count": 18,
          "metadata": {},
          "output_type": "execute_result"
        }
      ],
      "source": [
        "df_ml"
      ]
    },
    {
      "cell_type": "markdown",
      "source": [
        "Hasil data setelah dilakukan data cleaning + feature engineering"
      ],
      "metadata": {
        "id": "evzvHrzllz_v"
      }
    },
    {
      "cell_type": "markdown",
      "metadata": {
        "id": "bmLoU7M0wbi0"
      },
      "source": [
        "#Train Test (hourly)"
      ]
    },
    {
      "cell_type": "code",
      "execution_count": null,
      "metadata": {
        "id": "6SL3PiZJwcR-"
      },
      "outputs": [],
      "source": [
        "feature_cols = ['hour','dayofweek','is_weekend','month','is_rush',\n",
        "                'season','holiday','weathersit','temp','atemp','hum',\n",
        "                'lag_1','lag_24','roll_mean_3','roll_mean_24']\n",
        "X = df_ml[feature_cols].copy()\n",
        "y = np.log1p(df_ml['cnt'])"
      ]
    },
    {
      "cell_type": "markdown",
      "source": [
        "Menentukan fitur yang digunakan untuk model dan target variabel (jumlah rental, di-log transform untuk stabilitas)."
      ],
      "metadata": {
        "id": "5QXwkOPvl4mH"
      }
    },
    {
      "cell_type": "code",
      "execution_count": null,
      "metadata": {
        "id": "Q2f5qHXvwoBC"
      },
      "outputs": [],
      "source": [
        "n = len(X)\n",
        "test_size = max(1, int(0.2 * n))\n",
        "train_end = n - test_size\n",
        "X_train, X_test = X.iloc[:train_end], X.iloc[train_end:]\n",
        "y_train, y_test = y.iloc[:train_end], y.iloc[train_end:]"
      ]
    },
    {
      "cell_type": "markdown",
      "source": [
        "Membagi data menjadi data training dan testing dengan rasio 80:20."
      ],
      "metadata": {
        "id": "uaqnwbOAl92G"
      }
    },
    {
      "cell_type": "markdown",
      "metadata": {
        "id": "QBIyHnc4wxkd"
      },
      "source": [
        "#Preprocessing Pipeline"
      ]
    },
    {
      "cell_type": "code",
      "execution_count": null,
      "metadata": {
        "colab": {
          "base_uri": "https://localhost:8080/",
          "height": 189
        },
        "id": "cKsiehphyEuy",
        "outputId": "306e3fb2-a97b-4660-da99-d3058a9ee292"
      },
      "outputs": [
        {
          "data": {
            "text/html": [
              "<style>#sk-container-id-1 {\n",
              "  /* Definition of color scheme common for light and dark mode */\n",
              "  --sklearn-color-text: #000;\n",
              "  --sklearn-color-text-muted: #666;\n",
              "  --sklearn-color-line: gray;\n",
              "  /* Definition of color scheme for unfitted estimators */\n",
              "  --sklearn-color-unfitted-level-0: #fff5e6;\n",
              "  --sklearn-color-unfitted-level-1: #f6e4d2;\n",
              "  --sklearn-color-unfitted-level-2: #ffe0b3;\n",
              "  --sklearn-color-unfitted-level-3: chocolate;\n",
              "  /* Definition of color scheme for fitted estimators */\n",
              "  --sklearn-color-fitted-level-0: #f0f8ff;\n",
              "  --sklearn-color-fitted-level-1: #d4ebff;\n",
              "  --sklearn-color-fitted-level-2: #b3dbfd;\n",
              "  --sklearn-color-fitted-level-3: cornflowerblue;\n",
              "\n",
              "  /* Specific color for light theme */\n",
              "  --sklearn-color-text-on-default-background: var(--sg-text-color, var(--theme-code-foreground, var(--jp-content-font-color1, black)));\n",
              "  --sklearn-color-background: var(--sg-background-color, var(--theme-background, var(--jp-layout-color0, white)));\n",
              "  --sklearn-color-border-box: var(--sg-text-color, var(--theme-code-foreground, var(--jp-content-font-color1, black)));\n",
              "  --sklearn-color-icon: #696969;\n",
              "\n",
              "  @media (prefers-color-scheme: dark) {\n",
              "    /* Redefinition of color scheme for dark theme */\n",
              "    --sklearn-color-text-on-default-background: var(--sg-text-color, var(--theme-code-foreground, var(--jp-content-font-color1, white)));\n",
              "    --sklearn-color-background: var(--sg-background-color, var(--theme-background, var(--jp-layout-color0, #111)));\n",
              "    --sklearn-color-border-box: var(--sg-text-color, var(--theme-code-foreground, var(--jp-content-font-color1, white)));\n",
              "    --sklearn-color-icon: #878787;\n",
              "  }\n",
              "}\n",
              "\n",
              "#sk-container-id-1 {\n",
              "  color: var(--sklearn-color-text);\n",
              "}\n",
              "\n",
              "#sk-container-id-1 pre {\n",
              "  padding: 0;\n",
              "}\n",
              "\n",
              "#sk-container-id-1 input.sk-hidden--visually {\n",
              "  border: 0;\n",
              "  clip: rect(1px 1px 1px 1px);\n",
              "  clip: rect(1px, 1px, 1px, 1px);\n",
              "  height: 1px;\n",
              "  margin: -1px;\n",
              "  overflow: hidden;\n",
              "  padding: 0;\n",
              "  position: absolute;\n",
              "  width: 1px;\n",
              "}\n",
              "\n",
              "#sk-container-id-1 div.sk-dashed-wrapped {\n",
              "  border: 1px dashed var(--sklearn-color-line);\n",
              "  margin: 0 0.4em 0.5em 0.4em;\n",
              "  box-sizing: border-box;\n",
              "  padding-bottom: 0.4em;\n",
              "  background-color: var(--sklearn-color-background);\n",
              "}\n",
              "\n",
              "#sk-container-id-1 div.sk-container {\n",
              "  /* jupyter's `normalize.less` sets `[hidden] { display: none; }`\n",
              "     but bootstrap.min.css set `[hidden] { display: none !important; }`\n",
              "     so we also need the `!important` here to be able to override the\n",
              "     default hidden behavior on the sphinx rendered scikit-learn.org.\n",
              "     See: https://github.com/scikit-learn/scikit-learn/issues/21755 */\n",
              "  display: inline-block !important;\n",
              "  position: relative;\n",
              "}\n",
              "\n",
              "#sk-container-id-1 div.sk-text-repr-fallback {\n",
              "  display: none;\n",
              "}\n",
              "\n",
              "div.sk-parallel-item,\n",
              "div.sk-serial,\n",
              "div.sk-item {\n",
              "  /* draw centered vertical line to link estimators */\n",
              "  background-image: linear-gradient(var(--sklearn-color-text-on-default-background), var(--sklearn-color-text-on-default-background));\n",
              "  background-size: 2px 100%;\n",
              "  background-repeat: no-repeat;\n",
              "  background-position: center center;\n",
              "}\n",
              "\n",
              "/* Parallel-specific style estimator block */\n",
              "\n",
              "#sk-container-id-1 div.sk-parallel-item::after {\n",
              "  content: \"\";\n",
              "  width: 100%;\n",
              "  border-bottom: 2px solid var(--sklearn-color-text-on-default-background);\n",
              "  flex-grow: 1;\n",
              "}\n",
              "\n",
              "#sk-container-id-1 div.sk-parallel {\n",
              "  display: flex;\n",
              "  align-items: stretch;\n",
              "  justify-content: center;\n",
              "  background-color: var(--sklearn-color-background);\n",
              "  position: relative;\n",
              "}\n",
              "\n",
              "#sk-container-id-1 div.sk-parallel-item {\n",
              "  display: flex;\n",
              "  flex-direction: column;\n",
              "}\n",
              "\n",
              "#sk-container-id-1 div.sk-parallel-item:first-child::after {\n",
              "  align-self: flex-end;\n",
              "  width: 50%;\n",
              "}\n",
              "\n",
              "#sk-container-id-1 div.sk-parallel-item:last-child::after {\n",
              "  align-self: flex-start;\n",
              "  width: 50%;\n",
              "}\n",
              "\n",
              "#sk-container-id-1 div.sk-parallel-item:only-child::after {\n",
              "  width: 0;\n",
              "}\n",
              "\n",
              "/* Serial-specific style estimator block */\n",
              "\n",
              "#sk-container-id-1 div.sk-serial {\n",
              "  display: flex;\n",
              "  flex-direction: column;\n",
              "  align-items: center;\n",
              "  background-color: var(--sklearn-color-background);\n",
              "  padding-right: 1em;\n",
              "  padding-left: 1em;\n",
              "}\n",
              "\n",
              "\n",
              "/* Toggleable style: style used for estimator/Pipeline/ColumnTransformer box that is\n",
              "clickable and can be expanded/collapsed.\n",
              "- Pipeline and ColumnTransformer use this feature and define the default style\n",
              "- Estimators will overwrite some part of the style using the `sk-estimator` class\n",
              "*/\n",
              "\n",
              "/* Pipeline and ColumnTransformer style (default) */\n",
              "\n",
              "#sk-container-id-1 div.sk-toggleable {\n",
              "  /* Default theme specific background. It is overwritten whether we have a\n",
              "  specific estimator or a Pipeline/ColumnTransformer */\n",
              "  background-color: var(--sklearn-color-background);\n",
              "}\n",
              "\n",
              "/* Toggleable label */\n",
              "#sk-container-id-1 label.sk-toggleable__label {\n",
              "  cursor: pointer;\n",
              "  display: flex;\n",
              "  width: 100%;\n",
              "  margin-bottom: 0;\n",
              "  padding: 0.5em;\n",
              "  box-sizing: border-box;\n",
              "  text-align: center;\n",
              "  align-items: start;\n",
              "  justify-content: space-between;\n",
              "  gap: 0.5em;\n",
              "}\n",
              "\n",
              "#sk-container-id-1 label.sk-toggleable__label .caption {\n",
              "  font-size: 0.6rem;\n",
              "  font-weight: lighter;\n",
              "  color: var(--sklearn-color-text-muted);\n",
              "}\n",
              "\n",
              "#sk-container-id-1 label.sk-toggleable__label-arrow:before {\n",
              "  /* Arrow on the left of the label */\n",
              "  content: \"▸\";\n",
              "  float: left;\n",
              "  margin-right: 0.25em;\n",
              "  color: var(--sklearn-color-icon);\n",
              "}\n",
              "\n",
              "#sk-container-id-1 label.sk-toggleable__label-arrow:hover:before {\n",
              "  color: var(--sklearn-color-text);\n",
              "}\n",
              "\n",
              "/* Toggleable content - dropdown */\n",
              "\n",
              "#sk-container-id-1 div.sk-toggleable__content {\n",
              "  max-height: 0;\n",
              "  max-width: 0;\n",
              "  overflow: hidden;\n",
              "  text-align: left;\n",
              "  /* unfitted */\n",
              "  background-color: var(--sklearn-color-unfitted-level-0);\n",
              "}\n",
              "\n",
              "#sk-container-id-1 div.sk-toggleable__content.fitted {\n",
              "  /* fitted */\n",
              "  background-color: var(--sklearn-color-fitted-level-0);\n",
              "}\n",
              "\n",
              "#sk-container-id-1 div.sk-toggleable__content pre {\n",
              "  margin: 0.2em;\n",
              "  border-radius: 0.25em;\n",
              "  color: var(--sklearn-color-text);\n",
              "  /* unfitted */\n",
              "  background-color: var(--sklearn-color-unfitted-level-0);\n",
              "}\n",
              "\n",
              "#sk-container-id-1 div.sk-toggleable__content.fitted pre {\n",
              "  /* unfitted */\n",
              "  background-color: var(--sklearn-color-fitted-level-0);\n",
              "}\n",
              "\n",
              "#sk-container-id-1 input.sk-toggleable__control:checked~div.sk-toggleable__content {\n",
              "  /* Expand drop-down */\n",
              "  max-height: 200px;\n",
              "  max-width: 100%;\n",
              "  overflow: auto;\n",
              "}\n",
              "\n",
              "#sk-container-id-1 input.sk-toggleable__control:checked~label.sk-toggleable__label-arrow:before {\n",
              "  content: \"▾\";\n",
              "}\n",
              "\n",
              "/* Pipeline/ColumnTransformer-specific style */\n",
              "\n",
              "#sk-container-id-1 div.sk-label input.sk-toggleable__control:checked~label.sk-toggleable__label {\n",
              "  color: var(--sklearn-color-text);\n",
              "  background-color: var(--sklearn-color-unfitted-level-2);\n",
              "}\n",
              "\n",
              "#sk-container-id-1 div.sk-label.fitted input.sk-toggleable__control:checked~label.sk-toggleable__label {\n",
              "  background-color: var(--sklearn-color-fitted-level-2);\n",
              "}\n",
              "\n",
              "/* Estimator-specific style */\n",
              "\n",
              "/* Colorize estimator box */\n",
              "#sk-container-id-1 div.sk-estimator input.sk-toggleable__control:checked~label.sk-toggleable__label {\n",
              "  /* unfitted */\n",
              "  background-color: var(--sklearn-color-unfitted-level-2);\n",
              "}\n",
              "\n",
              "#sk-container-id-1 div.sk-estimator.fitted input.sk-toggleable__control:checked~label.sk-toggleable__label {\n",
              "  /* fitted */\n",
              "  background-color: var(--sklearn-color-fitted-level-2);\n",
              "}\n",
              "\n",
              "#sk-container-id-1 div.sk-label label.sk-toggleable__label,\n",
              "#sk-container-id-1 div.sk-label label {\n",
              "  /* The background is the default theme color */\n",
              "  color: var(--sklearn-color-text-on-default-background);\n",
              "}\n",
              "\n",
              "/* On hover, darken the color of the background */\n",
              "#sk-container-id-1 div.sk-label:hover label.sk-toggleable__label {\n",
              "  color: var(--sklearn-color-text);\n",
              "  background-color: var(--sklearn-color-unfitted-level-2);\n",
              "}\n",
              "\n",
              "/* Label box, darken color on hover, fitted */\n",
              "#sk-container-id-1 div.sk-label.fitted:hover label.sk-toggleable__label.fitted {\n",
              "  color: var(--sklearn-color-text);\n",
              "  background-color: var(--sklearn-color-fitted-level-2);\n",
              "}\n",
              "\n",
              "/* Estimator label */\n",
              "\n",
              "#sk-container-id-1 div.sk-label label {\n",
              "  font-family: monospace;\n",
              "  font-weight: bold;\n",
              "  display: inline-block;\n",
              "  line-height: 1.2em;\n",
              "}\n",
              "\n",
              "#sk-container-id-1 div.sk-label-container {\n",
              "  text-align: center;\n",
              "}\n",
              "\n",
              "/* Estimator-specific */\n",
              "#sk-container-id-1 div.sk-estimator {\n",
              "  font-family: monospace;\n",
              "  border: 1px dotted var(--sklearn-color-border-box);\n",
              "  border-radius: 0.25em;\n",
              "  box-sizing: border-box;\n",
              "  margin-bottom: 0.5em;\n",
              "  /* unfitted */\n",
              "  background-color: var(--sklearn-color-unfitted-level-0);\n",
              "}\n",
              "\n",
              "#sk-container-id-1 div.sk-estimator.fitted {\n",
              "  /* fitted */\n",
              "  background-color: var(--sklearn-color-fitted-level-0);\n",
              "}\n",
              "\n",
              "/* on hover */\n",
              "#sk-container-id-1 div.sk-estimator:hover {\n",
              "  /* unfitted */\n",
              "  background-color: var(--sklearn-color-unfitted-level-2);\n",
              "}\n",
              "\n",
              "#sk-container-id-1 div.sk-estimator.fitted:hover {\n",
              "  /* fitted */\n",
              "  background-color: var(--sklearn-color-fitted-level-2);\n",
              "}\n",
              "\n",
              "/* Specification for estimator info (e.g. \"i\" and \"?\") */\n",
              "\n",
              "/* Common style for \"i\" and \"?\" */\n",
              "\n",
              ".sk-estimator-doc-link,\n",
              "a:link.sk-estimator-doc-link,\n",
              "a:visited.sk-estimator-doc-link {\n",
              "  float: right;\n",
              "  font-size: smaller;\n",
              "  line-height: 1em;\n",
              "  font-family: monospace;\n",
              "  background-color: var(--sklearn-color-background);\n",
              "  border-radius: 1em;\n",
              "  height: 1em;\n",
              "  width: 1em;\n",
              "  text-decoration: none !important;\n",
              "  margin-left: 0.5em;\n",
              "  text-align: center;\n",
              "  /* unfitted */\n",
              "  border: var(--sklearn-color-unfitted-level-1) 1pt solid;\n",
              "  color: var(--sklearn-color-unfitted-level-1);\n",
              "}\n",
              "\n",
              ".sk-estimator-doc-link.fitted,\n",
              "a:link.sk-estimator-doc-link.fitted,\n",
              "a:visited.sk-estimator-doc-link.fitted {\n",
              "  /* fitted */\n",
              "  border: var(--sklearn-color-fitted-level-1) 1pt solid;\n",
              "  color: var(--sklearn-color-fitted-level-1);\n",
              "}\n",
              "\n",
              "/* On hover */\n",
              "div.sk-estimator:hover .sk-estimator-doc-link:hover,\n",
              ".sk-estimator-doc-link:hover,\n",
              "div.sk-label-container:hover .sk-estimator-doc-link:hover,\n",
              ".sk-estimator-doc-link:hover {\n",
              "  /* unfitted */\n",
              "  background-color: var(--sklearn-color-unfitted-level-3);\n",
              "  color: var(--sklearn-color-background);\n",
              "  text-decoration: none;\n",
              "}\n",
              "\n",
              "div.sk-estimator.fitted:hover .sk-estimator-doc-link.fitted:hover,\n",
              ".sk-estimator-doc-link.fitted:hover,\n",
              "div.sk-label-container:hover .sk-estimator-doc-link.fitted:hover,\n",
              ".sk-estimator-doc-link.fitted:hover {\n",
              "  /* fitted */\n",
              "  background-color: var(--sklearn-color-fitted-level-3);\n",
              "  color: var(--sklearn-color-background);\n",
              "  text-decoration: none;\n",
              "}\n",
              "\n",
              "/* Span, style for the box shown on hovering the info icon */\n",
              ".sk-estimator-doc-link span {\n",
              "  display: none;\n",
              "  z-index: 9999;\n",
              "  position: relative;\n",
              "  font-weight: normal;\n",
              "  right: .2ex;\n",
              "  padding: .5ex;\n",
              "  margin: .5ex;\n",
              "  width: min-content;\n",
              "  min-width: 20ex;\n",
              "  max-width: 50ex;\n",
              "  color: var(--sklearn-color-text);\n",
              "  box-shadow: 2pt 2pt 4pt #999;\n",
              "  /* unfitted */\n",
              "  background: var(--sklearn-color-unfitted-level-0);\n",
              "  border: .5pt solid var(--sklearn-color-unfitted-level-3);\n",
              "}\n",
              "\n",
              ".sk-estimator-doc-link.fitted span {\n",
              "  /* fitted */\n",
              "  background: var(--sklearn-color-fitted-level-0);\n",
              "  border: var(--sklearn-color-fitted-level-3);\n",
              "}\n",
              "\n",
              ".sk-estimator-doc-link:hover span {\n",
              "  display: block;\n",
              "}\n",
              "\n",
              "/* \"?\"-specific style due to the `<a>` HTML tag */\n",
              "\n",
              "#sk-container-id-1 a.estimator_doc_link {\n",
              "  float: right;\n",
              "  font-size: 1rem;\n",
              "  line-height: 1em;\n",
              "  font-family: monospace;\n",
              "  background-color: var(--sklearn-color-background);\n",
              "  border-radius: 1rem;\n",
              "  height: 1rem;\n",
              "  width: 1rem;\n",
              "  text-decoration: none;\n",
              "  /* unfitted */\n",
              "  color: var(--sklearn-color-unfitted-level-1);\n",
              "  border: var(--sklearn-color-unfitted-level-1) 1pt solid;\n",
              "}\n",
              "\n",
              "#sk-container-id-1 a.estimator_doc_link.fitted {\n",
              "  /* fitted */\n",
              "  border: var(--sklearn-color-fitted-level-1) 1pt solid;\n",
              "  color: var(--sklearn-color-fitted-level-1);\n",
              "}\n",
              "\n",
              "/* On hover */\n",
              "#sk-container-id-1 a.estimator_doc_link:hover {\n",
              "  /* unfitted */\n",
              "  background-color: var(--sklearn-color-unfitted-level-3);\n",
              "  color: var(--sklearn-color-background);\n",
              "  text-decoration: none;\n",
              "}\n",
              "\n",
              "#sk-container-id-1 a.estimator_doc_link.fitted:hover {\n",
              "  /* fitted */\n",
              "  background-color: var(--sklearn-color-fitted-level-3);\n",
              "}\n",
              "</style><div id=\"sk-container-id-1\" class=\"sk-top-container\"><div class=\"sk-text-repr-fallback\"><pre>ColumnTransformer(transformers=[(&#x27;num&#x27;,\n",
              "                                 Pipeline(steps=[(&#x27;imputer&#x27;, SimpleImputer()),\n",
              "                                                 (&#x27;scaler&#x27;, StandardScaler())]),\n",
              "                                 [&#x27;temp&#x27;, &#x27;atemp&#x27;, &#x27;hum&#x27;, &#x27;lag_1&#x27;, &#x27;lag_24&#x27;,\n",
              "                                  &#x27;roll_mean_3&#x27;, &#x27;roll_mean_24&#x27;]),\n",
              "                                (&#x27;cat&#x27;,\n",
              "                                 Pipeline(steps=[(&#x27;onehot&#x27;,\n",
              "                                                  OneHotEncoder(handle_unknown=&#x27;ignore&#x27;))]),\n",
              "                                 [&#x27;season&#x27;, &#x27;holiday&#x27;, &#x27;weathersit&#x27;, &#x27;hour&#x27;,\n",
              "                                  &#x27;dayofweek&#x27;, &#x27;is_weekend&#x27;, &#x27;month&#x27;,\n",
              "                                  &#x27;is_rush&#x27;])])</pre><b>In a Jupyter environment, please rerun this cell to show the HTML representation or trust the notebook. <br />On GitHub, the HTML representation is unable to render, please try loading this page with nbviewer.org.</b></div><div class=\"sk-container\" hidden><div class=\"sk-item sk-dashed-wrapped\"><div class=\"sk-label-container\"><div class=\"sk-label  sk-toggleable\"><input class=\"sk-toggleable__control sk-hidden--visually\" id=\"sk-estimator-id-1\" type=\"checkbox\" ><label for=\"sk-estimator-id-1\" class=\"sk-toggleable__label  sk-toggleable__label-arrow\"><div><div>ColumnTransformer</div></div><div><a class=\"sk-estimator-doc-link \" rel=\"noreferrer\" target=\"_blank\" href=\"https://scikit-learn.org/1.6/modules/generated/sklearn.compose.ColumnTransformer.html\">?<span>Documentation for ColumnTransformer</span></a><span class=\"sk-estimator-doc-link \">i<span>Not fitted</span></span></div></label><div class=\"sk-toggleable__content \"><pre>ColumnTransformer(transformers=[(&#x27;num&#x27;,\n",
              "                                 Pipeline(steps=[(&#x27;imputer&#x27;, SimpleImputer()),\n",
              "                                                 (&#x27;scaler&#x27;, StandardScaler())]),\n",
              "                                 [&#x27;temp&#x27;, &#x27;atemp&#x27;, &#x27;hum&#x27;, &#x27;lag_1&#x27;, &#x27;lag_24&#x27;,\n",
              "                                  &#x27;roll_mean_3&#x27;, &#x27;roll_mean_24&#x27;]),\n",
              "                                (&#x27;cat&#x27;,\n",
              "                                 Pipeline(steps=[(&#x27;onehot&#x27;,\n",
              "                                                  OneHotEncoder(handle_unknown=&#x27;ignore&#x27;))]),\n",
              "                                 [&#x27;season&#x27;, &#x27;holiday&#x27;, &#x27;weathersit&#x27;, &#x27;hour&#x27;,\n",
              "                                  &#x27;dayofweek&#x27;, &#x27;is_weekend&#x27;, &#x27;month&#x27;,\n",
              "                                  &#x27;is_rush&#x27;])])</pre></div> </div></div><div class=\"sk-parallel\"><div class=\"sk-parallel-item\"><div class=\"sk-item\"><div class=\"sk-label-container\"><div class=\"sk-label  sk-toggleable\"><input class=\"sk-toggleable__control sk-hidden--visually\" id=\"sk-estimator-id-2\" type=\"checkbox\" ><label for=\"sk-estimator-id-2\" class=\"sk-toggleable__label  sk-toggleable__label-arrow\"><div><div>num</div></div></label><div class=\"sk-toggleable__content \"><pre>[&#x27;temp&#x27;, &#x27;atemp&#x27;, &#x27;hum&#x27;, &#x27;lag_1&#x27;, &#x27;lag_24&#x27;, &#x27;roll_mean_3&#x27;, &#x27;roll_mean_24&#x27;]</pre></div> </div></div><div class=\"sk-serial\"><div class=\"sk-item\"><div class=\"sk-serial\"><div class=\"sk-item\"><div class=\"sk-estimator  sk-toggleable\"><input class=\"sk-toggleable__control sk-hidden--visually\" id=\"sk-estimator-id-3\" type=\"checkbox\" ><label for=\"sk-estimator-id-3\" class=\"sk-toggleable__label  sk-toggleable__label-arrow\"><div><div>SimpleImputer</div></div><div><a class=\"sk-estimator-doc-link \" rel=\"noreferrer\" target=\"_blank\" href=\"https://scikit-learn.org/1.6/modules/generated/sklearn.impute.SimpleImputer.html\">?<span>Documentation for SimpleImputer</span></a></div></label><div class=\"sk-toggleable__content \"><pre>SimpleImputer()</pre></div> </div></div><div class=\"sk-item\"><div class=\"sk-estimator  sk-toggleable\"><input class=\"sk-toggleable__control sk-hidden--visually\" id=\"sk-estimator-id-4\" type=\"checkbox\" ><label for=\"sk-estimator-id-4\" class=\"sk-toggleable__label  sk-toggleable__label-arrow\"><div><div>StandardScaler</div></div><div><a class=\"sk-estimator-doc-link \" rel=\"noreferrer\" target=\"_blank\" href=\"https://scikit-learn.org/1.6/modules/generated/sklearn.preprocessing.StandardScaler.html\">?<span>Documentation for StandardScaler</span></a></div></label><div class=\"sk-toggleable__content \"><pre>StandardScaler()</pre></div> </div></div></div></div></div></div></div><div class=\"sk-parallel-item\"><div class=\"sk-item\"><div class=\"sk-label-container\"><div class=\"sk-label  sk-toggleable\"><input class=\"sk-toggleable__control sk-hidden--visually\" id=\"sk-estimator-id-5\" type=\"checkbox\" ><label for=\"sk-estimator-id-5\" class=\"sk-toggleable__label  sk-toggleable__label-arrow\"><div><div>cat</div></div></label><div class=\"sk-toggleable__content \"><pre>[&#x27;season&#x27;, &#x27;holiday&#x27;, &#x27;weathersit&#x27;, &#x27;hour&#x27;, &#x27;dayofweek&#x27;, &#x27;is_weekend&#x27;, &#x27;month&#x27;, &#x27;is_rush&#x27;]</pre></div> </div></div><div class=\"sk-serial\"><div class=\"sk-item\"><div class=\"sk-serial\"><div class=\"sk-item\"><div class=\"sk-estimator  sk-toggleable\"><input class=\"sk-toggleable__control sk-hidden--visually\" id=\"sk-estimator-id-6\" type=\"checkbox\" ><label for=\"sk-estimator-id-6\" class=\"sk-toggleable__label  sk-toggleable__label-arrow\"><div><div>OneHotEncoder</div></div><div><a class=\"sk-estimator-doc-link \" rel=\"noreferrer\" target=\"_blank\" href=\"https://scikit-learn.org/1.6/modules/generated/sklearn.preprocessing.OneHotEncoder.html\">?<span>Documentation for OneHotEncoder</span></a></div></label><div class=\"sk-toggleable__content \"><pre>OneHotEncoder(handle_unknown=&#x27;ignore&#x27;)</pre></div> </div></div></div></div></div></div></div></div></div></div></div>"
            ],
            "text/plain": [
              "ColumnTransformer(transformers=[('num',\n",
              "                                 Pipeline(steps=[('imputer', SimpleImputer()),\n",
              "                                                 ('scaler', StandardScaler())]),\n",
              "                                 ['temp', 'atemp', 'hum', 'lag_1', 'lag_24',\n",
              "                                  'roll_mean_3', 'roll_mean_24']),\n",
              "                                ('cat',\n",
              "                                 Pipeline(steps=[('onehot',\n",
              "                                                  OneHotEncoder(handle_unknown='ignore'))]),\n",
              "                                 ['season', 'holiday', 'weathersit', 'hour',\n",
              "                                  'dayofweek', 'is_weekend', 'month',\n",
              "                                  'is_rush'])])"
            ]
          },
          "execution_count": 21,
          "metadata": {},
          "output_type": "execute_result"
        }
      ],
      "source": [
        "numeric_features = ['temp','atemp','hum','lag_1','lag_24','roll_mean_3','roll_mean_24']\n",
        "categorical_features = ['season','holiday','weathersit','hour','dayofweek','is_weekend','month','is_rush']\n",
        "\n",
        "numeric_transformer = Pipeline([\n",
        "    ('imputer', SimpleImputer(strategy='mean')),\n",
        "    ('scaler', StandardScaler())\n",
        "])\n",
        "categorical_transformer = Pipeline([('onehot', OneHotEncoder(handle_unknown='ignore'))])\n",
        "\n",
        "preprocessor = ColumnTransformer([\n",
        "    ('num', numeric_transformer, numeric_features),\n",
        "    ('cat', categorical_transformer, categorical_features)\n",
        "])\n",
        "preprocessor"
      ]
    },
    {
      "cell_type": "markdown",
      "source": [
        "Membuat pipeline preprocessing untuk fitur numerik (imputasi dan scaling) dan fitur kategorikal (one-hot encoding).\n",
        "- numeric_features → berisi variabel bertipe numerik, seperti suhu, kelembapan, dan hasil lag/rolling.\n",
        "- categorical_features → berisi variabel bertipe kategorikal, seperti musim, kondisi cuaca, hari dalam seminggu, dll.\n",
        "- SimpleImputer(strategy='mean') → mengisi nilai missing dengan rata-rata kolom (agar tidak error saat training).\n",
        "- StandardScaler() → menstandarkan skala fitur agar memiliki mean = 0 dan standar deviasi = 1.\n",
        "- OneHotEncoder() → mengubah data kategorikal menjadi bentuk numerik biner (dummy variable).\n",
        "Contoh: season dengan 4 kategori → jadi 4 kolom baru (season_1, season_2, season_3, season_4).\n",
        "- handle_unknown='ignore' → agar tidak error jika ada kategori baru saat prediksi (yang tidak muncul di data training).\n",
        "- ColumnTransformer memungkinkan kita memproses kolom numerik dan kategorikal secara paralel dan otomatis.\n",
        "- Output akhirnya berupa array numerik siap pakai untuk model machine learning."
      ],
      "metadata": {
        "id": "cCWbBD9gl_5J"
      }
    },
    {
      "cell_type": "markdown",
      "metadata": {
        "id": "WBkS7jFp1vhW"
      },
      "source": [
        "#Training + Hyperparameter Tuning (hourly)"
      ]
    },
    {
      "cell_type": "code",
      "execution_count": null,
      "metadata": {
        "colab": {
          "base_uri": "https://localhost:8080/"
        },
        "id": "2L9DBU9cyFTT",
        "outputId": "8712af71-40db-4afa-e596-2904f35edadd"
      },
      "outputs": [
        {
          "name": "stdout",
          "output_type": "stream",
          "text": [
            "rf best params: {'model__n_estimators': 100, 'model__max_features': 'sqrt', 'model__max_depth': None}\n",
            "gb best params: {'model__n_estimators': 100, 'model__max_depth': 5, 'model__learning_rate': 0.1}\n"
          ]
        }
      ],
      "source": [
        "tscv = TimeSeriesSplit(n_splits=3)\n",
        "\n",
        "pipe_rf = Pipeline([\n",
        "    ('pre', preprocessor),\n",
        "    ('model', RandomForestRegressor(random_state=42, n_jobs=1))\n",
        "])\n",
        "param_rf = {\n",
        "    'model__n_estimators': [50,100],\n",
        "    'model__max_depth': [5,10,None],\n",
        "    'model__max_features': ['sqrt','log2']\n",
        "}\n",
        "\n",
        "pipe_gb = Pipeline([\n",
        "    ('pre', preprocessor),\n",
        "    ('model', GradientBoostingRegressor(random_state=42))\n",
        "])\n",
        "param_gb = {\n",
        "    'model__n_estimators': [50,100],\n",
        "    'model__learning_rate': [0.01,0.1],\n",
        "    'model__max_depth': [3,5]\n",
        "}\n",
        "\n",
        "best_models = {}\n",
        "for name, pipe, params in [('rf', pipe_rf, param_rf), ('gb', pipe_gb, param_gb)]:\n",
        "    rsearch = RandomizedSearchCV(\n",
        "        pipe, params, n_iter=4, cv=tscv,\n",
        "        scoring='neg_root_mean_squared_error', random_state=42, n_jobs=1\n",
        "    )\n",
        "    rsearch.fit(X_train, y_train)\n",
        "    best_models[name] = rsearch.best_estimator_\n",
        "    print(f\"{name} best params:\", rsearch.best_params_)"
      ]
    },
    {
      "cell_type": "markdown",
      "source": [
        "Melakukan training dan tuning hyperparameter untuk Random Forest dan Gradient Boosting menggunakan cross-validation time series.\n",
        "- TimeSeriesSplit digunakan karena data bersifat time series (berurutan berdasarkan waktu).\n",
        "- Pipeline terdiri dari dua tahap:\n",
        "- - pre → preprocessing otomatis (imputasi, scaling, encoding).\n",
        "- -  model → algoritma Random Forest & Gradient Boosting.\n",
        "- n_estimators: jumlah pohon (semakin besar, semakin stabil tapi lebih lama).\n",
        "- max_depth: batas kedalaman pohon.\n",
        "- max_features: jumlah fitur yang dipertimbangkan tiap split.\n",
        "- RandomizedSearchCV → memilih kombinasi hyperparameter secara acak (lebih efisien daripada Grid Search).\n",
        "- n_iter=4 → mencoba 4 kombinasi acak dari grid parameter.\n",
        "- cv=tscv → pakai TimeSeriesSplit untuk cross-validation.\n",
        "- scoring='neg_root_mean_squared_error' → metrik yang digunakan adalah RMSE (semakin kecil semakin baik)."
      ],
      "metadata": {
        "id": "TVz1UP9mmopu"
      }
    },
    {
      "cell_type": "markdown",
      "metadata": {
        "id": "KqVKqc-J2xY-"
      },
      "source": [
        "#Evaluasi Model"
      ]
    },
    {
      "cell_type": "code",
      "execution_count": null,
      "metadata": {
        "colab": {
          "base_uri": "https://localhost:8080/"
        },
        "id": "Aq68DV472F5A",
        "outputId": "4cbd283d-baf2-4aaf-9ac8-fd4c9c4c638e"
      },
      "outputs": [
        {
          "name": "stdout",
          "output_type": "stream",
          "text": [
            "rf → RMSE: 105.16, MAE: 67.76, R²: 0.772\n",
            "gb → RMSE: 86.98, MAE: 55.01, R²: 0.844\n",
            "Selected hourly model: gb\n"
          ]
        }
      ],
      "source": [
        "def eval_model(model, X_test, y_test_log):\n",
        "    y_pred_log = model.predict(X_test)\n",
        "    y_pred = np.expm1(y_pred_log)\n",
        "    y_true = np.expm1(y_test_log)\n",
        "    return {\n",
        "        'rmse': math.sqrt(mean_squared_error(y_true, y_pred)),\n",
        "        'mae': mean_absolute_error(y_true, y_pred),\n",
        "        'r2': r2_score(y_true, y_pred),\n",
        "        'y_true': y_true, 'y_pred': y_pred,\n",
        "        'index': X_test.index\n",
        "    }\n",
        "\n",
        "evals = {name: eval_model(m, X_test, y_test) for name, m in best_models.items()}\n",
        "for name, res in evals.items():\n",
        "    print(f\"{name} → RMSE: {res['rmse']:.2f}, MAE: {res['mae']:.2f}, R²: {res['r2']:.3f}\")\n",
        "\n",
        "best_name = max(evals.keys(), key=lambda k: evals[k]['r2'])\n",
        "best_model_hourly = best_models[best_name]\n",
        "print(\"Selected hourly model:\", best_name)"
      ]
    },
    {
      "cell_type": "markdown",
      "source": [
        "Mengevaluasi performa model pada data test dan memilih model terbaik berdasarkan skor R².\n",
        "| Model                      | RMSE   | MAE   | R²    | Keterangan                                                                                           |\n",
        "| :------------------------- | :----- | :---- | :---- | :--------------------------------------------------------------------------------------------------- |\n",
        "| **Random Forest (RF)**     | 105.16 | 67.76 | 0.772 | Performa baik, namun masih ada error cukup besar.                                                    |\n",
        "| **Gradient Boosting (GB)** | 86.98  | 55.01 | 0.844 | Performa lebih baik dibanding RF, error lebih kecil, dan mampu menjelaskan variasi data lebih besar. |\n"
      ],
      "metadata": {
        "id": "ZpW3UwfzrCeT"
      }
    },
    {
      "cell_type": "markdown",
      "source": [
        "| **Model**                  | **RMSE**   | **MAE**   | **R²**    | **Interpretasi terhadap Data Bike Sharing**                                                                                                                                                                      |\n",
        "| :------------------------- | :--------- | :-------- | :-------- | :--------------------------------------------------------------------------------------------------------------------------------------------------------------------------------------------------------------- |\n",
        "| **Random Forest (RF)**     | **105.16** | **67.76** | **0.772** | Model mampu menjelaskan sekitar **77,2% variasi jumlah penyewaan sepeda (cnt)** berdasarkan fitur cuaca, suhu, jam, musim, dsb. Namun rata-rata kesalahan prediksi masih sekitar **68–105 unit sepeda per jam**. |\n",
        "| **Gradient Boosting (GB)** | **86.98**  | **55.01** | **0.844** | Model menjelaskan sekitar **84,4% variasi jumlah penyewaan sepeda (cnt)**. Kesalahan rata-rata prediksi lebih kecil, sekitar **55–87 sepeda per jam**, menunjukkan akurasi yang lebih tinggi.                    |\n"
      ],
      "metadata": {
        "id": "DCkCng3irWjw"
      }
    },
    {
      "cell_type": "code",
      "execution_count": null,
      "metadata": {
        "colab": {
          "base_uri": "https://localhost:8080/",
          "height": 487
        },
        "id": "HUX3Agm17SEI",
        "outputId": "7d8643f4-2587-4e2f-c5ad-ec75d023da12"
      },
      "outputs": [
        {
          "data": {
            "image/png": "[encoded data removed]",
            "text/plain": [
              "<Figure size 1400x500 with 1 Axes>"
            ]
          },
          "metadata": {},
          "output_type": "display_data"
        }
      ],
      "source": [
        "res = evals[best_name]\n",
        "plt.figure(figsize=(14,5))\n",
        "plt.plot(res['index'], res['y_true'], label=\"Aktual (hourly)\", color=\"black\")\n",
        "plt.plot(res['index'], res['y_pred'], label=\"Prediksi (hourly)\", color=\"red\", alpha=0.7)\n",
        "plt.title(\"Hourly Prediksi vs Aktual (Test Set)\")\n",
        "plt.xlabel(\"Waktu\")\n",
        "plt.ylabel(\"Jumlah Rental\")\n",
        "plt.legend()\n",
        "plt.show()"
      ]
    },
    {
      "cell_type": "markdown",
      "source": [
        "Menampilkan plot perbandingan antara data aktual dan prediksi model pada data test."
      ],
      "metadata": {
        "id": "IfGaGF5b0b9r"
      }
    },
    {
      "cell_type": "markdown",
      "source": [
        "| **Aspek**                                  | **Penjelasan**                                                                                                                                                                                                                                                          |\n",
        "| :----------------------------------------- | :---------------------------------------------------------------------------------------------------------------------------------------------------------------------------------------------------------------------------------------------------------------------- |\n",
        "| **Sumbu X (horizontal)**                   | Menunjukkan **rentang waktu dari Agustus 2012 hingga Januari 2013**, dengan satuan jam. Ini merupakan periode data uji (*test set*) yang digunakan untuk mengevaluasi performa model.                                                                                   |\n",
        "| **Sumbu Y (vertikal)**                     | Menunjukkan **jumlah penyewaan sepeda (rental count)** dalam satuan unit per jam.                                                                                                                                                                                       |\n",
        "| **Garis hitam (Aktual)**                   | Menunjukkan **jumlah penyewaan sepeda yang sebenarnya terjadi** berdasarkan data historis.                                                                                                                                                                              |\n",
        "| **Garis merah (Prediksi)**                 | Menunjukkan **hasil prediksi model Gradient Boosting (GB)** terhadap jumlah penyewaan sepeda setiap jam.                                                                                                                                                                |\n",
        "| **Pola umum**                              | Kedua garis menunjukkan pola **musiman dan harian yang sangat mirip**, di mana jumlah penyewaan meningkat pada jam-jam sibuk (pagi dan sore hari) serta menurun pada malam hari. Ini menunjukkan model mampu **menangkap pola periodik permintaan sepeda** dengan baik. |\n",
        "| **Perbedaan antara garis merah dan hitam** | Terjadi beberapa deviasi — terutama pada **puncak permintaan tinggi (peak hours)** — di mana model cenderung **sedikit meremehkan nilai aktual (underestimate)**. Namun, di luar jam sibuk, prediksi model cukup konsisten dengan nilai aktual.                         |\n",
        "| **Konsistensi prediksi**                   | Meskipun terdapat fluktuasi harian yang besar, garis merah tetap **mengikuti tren utama** dari data aktual, yang berarti model cukup adaptif terhadap variasi waktu dan cuaca.                                                                                          |\n"
      ],
      "metadata": {
        "id": "C4Gyx1QL0oEQ"
      }
    },
    {
      "cell_type": "markdown",
      "metadata": {
        "id": "0GPd7uByMm_Z"
      },
      "source": [
        "#Save Model Hourly"
      ]
    },
    {
      "cell_type": "code",
      "execution_count": null,
      "metadata": {
        "colab": {
          "base_uri": "https://localhost:8080/"
        },
        "id": "lqsAmXyCMo7w",
        "outputId": "f7bf867d-0c4b-4cb8-cb15-314efb1a42f5"
      },
      "outputs": [
        {
          "data": {
            "text/plain": [
              "['best_hourly_model.pkl']"
            ]
          },
          "execution_count": 25,
          "metadata": {},
          "output_type": "execute_result"
        }
      ],
      "source": [
        "joblib.dump(best_model_hourly, \"best_hourly_model.pkl\")"
      ]
    },
    {
      "cell_type": "markdown",
      "source": [
        "Menyimpan model terbaik ke file agar bisa digunakan untuk deployment atau aplikasi Streamlit."
      ],
      "metadata": {
        "id": "TalyaJLR0fta"
      }
    },
    {
      "cell_type": "markdown",
      "metadata": {
        "id": "ImGvr2sfN6Aa"
      },
      "source": [
        "#Load Model"
      ]
    },
    {
      "cell_type": "code",
      "execution_count": null,
      "metadata": {
        "colab": {
          "base_uri": "https://localhost:8080/"
        },
        "id": "30gbCFr8N5u2",
        "outputId": "753e57c1-067c-4671-c03c-65119d5c6015"
      },
      "outputs": [
        {
          "name": "stdout",
          "output_type": "stream",
          "text": [
            "Successfully loaded: \n",
            "Pipeline(steps=[('pre',\n",
            "                 ColumnTransformer(transformers=[('num',\n",
            "                                                  Pipeline(steps=[('imputer',\n",
            "                                                                   SimpleImputer()),\n",
            "                                                                  ('scaler',\n",
            "                                                                   StandardScaler())]),\n",
            "                                                  ['temp', 'atemp', 'hum',\n",
            "                                                   'lag_1', 'lag_24',\n",
            "                                                   'roll_mean_3',\n",
            "                                                   'roll_mean_24']),\n",
            "                                                 ('cat',\n",
            "                                                  Pipeline(steps=[('onehot',\n",
            "                                                                   OneHotEncoder(handle_unknown='ignore'))]),\n",
            "                                                  ['season', 'holiday',\n",
            "                                                   'weathersit', 'hour',\n",
            "                                                   'dayofweek', 'is_weekend',\n",
            "                                                   'month', 'is_rush'])])),\n",
            "                ('model',\n",
            "                 GradientBoostingRegressor(max_depth=5, random_state=42))])\n"
          ]
        }
      ],
      "source": [
        "model_path =  '/content/best_hourly_model.pkl'\n",
        "loaded = joblib.load(model_path)\n",
        "print(f\"Successfully loaded: \\n{loaded}\")"
      ]
    },
    {
      "cell_type": "markdown",
      "source": [
        "Menguji proses load model yang sudah disimpan untuk memastikan model bisa digunakan kembali."
      ],
      "metadata": {
        "id": "ooYu23om0idD"
      }
    },
    {
      "cell_type": "markdown",
      "metadata": {
        "id": "D2C6qo4F7jxM"
      },
      "source": [
        "#Time Series Forecasting"
      ]
    },
    {
      "cell_type": "code",
      "execution_count": null,
      "metadata": {
        "colab": {
          "base_uri": "https://localhost:8080/"
        },
        "id": "qKpQi2us7i1a",
        "outputId": "dda23af9-981e-4025-f05a-585237616f34"
      },
      "outputs": [
        {
          "name": "stdout",
          "output_type": "stream",
          "text": [
            "Hourly model → RMSE: 86.98, MAE: 55.01, R2: 0.844\n"
          ]
        }
      ],
      "source": [
        "def eval_model_hourly(model, X_test, y_test_log):\n",
        "    y_pred_log = model.predict(X_test)\n",
        "    y_pred = np.expm1(y_pred_log)\n",
        "    y_true = np.expm1(y_test_log)\n",
        "    return {\n",
        "        'rmse': math.sqrt(mean_squared_error(y_true, y_pred)),\n",
        "        'mae': mean_absolute_error(y_true, y_pred),\n",
        "        'r2': r2_score(y_true, y_pred),\n",
        "        'y_true': pd.Series(y_true, index=X_test.index),\n",
        "        'y_pred': pd.Series(y_pred, index=X_test.index)\n",
        "    }\n",
        "\n",
        "best_name = min(evals.keys(), key=lambda n: evals[n]['rmse'])\n",
        "best_hourly_model = best_models[best_name]\n",
        "\n",
        "res_hourly = eval_model_hourly(best_hourly_model, X_test, y_test)\n",
        "print(\"Hourly model → RMSE: {:.2f}, MAE: {:.2f}, R2: {:.3f}\".format(res_hourly['rmse'], res_hourly['mae'], res_hourly['r2']))"
      ]
    },
    {
      "cell_type": "markdown",
      "source": [
        "Model Gradient Boosting terpilih sebagai model terbaik untuk prediksi hourly karena memiliki RMSE paling kecil dan R² tertinggi (0.844). Ini menunjukkan bahwa model mampu menangkap pola permintaan sepeda harian secara akurat, meskipun masih terdapat sedikit deviasi pada jam-jam puncak."
      ],
      "metadata": {
        "id": "ELRvLq60BVlP"
      }
    },
    {
      "cell_type": "markdown",
      "source": [
        "| **Metrik** | **Nilai** | **Interpretasi**                                                                                                                                               |\n",
        "| ---------- | --------- | -------------------------------------------------------------------------------------------------------------------------------------------------------------- |\n",
        "| **RMSE**   | 86.98     | Rata-rata kesalahan prediksi model sebesar **±87 unit** jumlah penyewaan sepeda per jam. Semakin kecil RMSE, semakin baik model dalam memprediksi data aktual. |\n",
        "| **MAE**    | 55.01     | Kesalahan absolut rata-rata sebesar **55 penyewaan per jam**, yang menunjukkan prediksi model cukup dekat dengan nilai aktual.                                 |\n",
        "| **R²**     | 0.844     | Model dapat menjelaskan **84.4% variasi jumlah penyewaan sepeda**, artinya model memiliki performa yang sangat baik untuk data *hourly*.                       |\n"
      ],
      "metadata": {
        "id": "UOSNUA4DBTID"
      }
    },
    {
      "cell_type": "code",
      "execution_count": null,
      "metadata": {
        "colab": {
          "base_uri": "https://localhost:8080/"
        },
        "id": "R51ZpABY7rY8",
        "outputId": "6325ba44-8a43-4ae0-f7e6-918c562bd961"
      },
      "outputs": [
        {
          "name": "stderr",
          "output_type": "stream",
          "text": [
            "/tmp/ipython-input-2990553989.py:7: FutureWarning: 'M' is deprecated and will be removed in a future version, please use 'ME' instead.\n",
            "  agg = series.resample(rule).sum()\n"
          ]
        }
      ],
      "source": [
        "hourly_pred_series = res_hourly['y_pred']\n",
        "hourly_true_series = res_hourly['y_true']\n",
        "\n",
        "def aggregate_series(series, rule):\n",
        "    agg = series.resample(rule).sum()\n",
        "    return agg\n",
        "\n",
        "ml_daily_pred = aggregate_series(hourly_pred_series, 'D')\n",
        "ml_daily_true = aggregate_series(hourly_true_series, 'D')\n",
        "\n",
        "ml_weekly_pred = aggregate_series(hourly_pred_series, 'W')\n",
        "ml_weekly_true = aggregate_series(hourly_true_series, 'W')\n",
        "\n",
        "ml_monthly_pred = aggregate_series(hourly_pred_series, 'M')\n",
        "ml_monthly_true = aggregate_series(hourly_true_series, 'M')"
      ]
    },
    {
      "cell_type": "code",
      "execution_count": null,
      "metadata": {
        "id": "qXZ4BFNq7zl6"
      },
      "outputs": [],
      "source": [
        "def fit_sarima_and_forecast(agg_df, seasonal_period, order=(1,1,1), seasonal_order=(1,1,1,0)):\n",
        "    n = len(agg_df)\n",
        "    test_size = max(1, int(0.2 * n))\n",
        "    train = agg_df.iloc[:-test_size]\n",
        "    test = agg_df.iloc[-test_size:]\n",
        "    seasonal_order = (seasonal_order[0], seasonal_order[1], seasonal_order[2], seasonal_period)\n",
        "    try:\n",
        "        model = sm.tsa.statespace.SARIMAX(train['cnt'],\n",
        "                                          order=order,\n",
        "                                          seasonal_order=seasonal_order,\n",
        "                                          enforce_stationarity=False,\n",
        "                                          enforce_invertibility=False).fit(disp=False, method_kwargs={\"warn_convergence\": False})\n",
        "    except Exception as e:\n",
        "        print(\"SARIMA fit error:\", e)\n",
        "        return None\n",
        "    pred = model.get_forecast(steps=len(test))\n",
        "    y_pred = pred.predicted_mean\n",
        "    y_true = test['cnt']\n",
        "    rmse = math.sqrt(mean_squared_error(y_true, y_pred))\n",
        "    mae = mean_absolute_error(y_true, y_pred)\n",
        "    r2 = r2_score(y_true, y_pred) if len(y_true)>1 else float('nan')\n",
        "    return {\n",
        "        'model': model, 'y_pred': pd.Series(y_pred.values, index=test.index),\n",
        "        'y_true': y_true, 'rmse': rmse, 'mae': mae, 'r2': r2,\n",
        "        'train_index': train.index, 'test_index': test.index\n",
        "    }"
      ]
    },
    {
      "cell_type": "markdown",
      "source": [
        "| **Bagian Kode**                                                                                                                | **Penjelasan**                                                                                                                                                                                                                                                           |\n",
        "| ------------------------------------------------------------------------------------------------------------------------------ | ------------------------------------------------------------------------------------------------------------------------------------------------------------------------------------------------------------------------------------------------------------------------ |\n",
        "| `hourly_pred_series = res_hourly['y_pred']`<br>`hourly_true_series = res_hourly['y_true']`                                     | Mengambil hasil prediksi (`y_pred`) dan nilai aktual (`y_true`) dari model terbaik pada skala **per jam (hourly)**. Data ini akan digunakan untuk membentuk agregasi harian, mingguan, dan bulanan.                                                                      |\n",
        "| `def aggregate_series(series, rule):`                                                                                          | Mendefinisikan fungsi untuk melakukan **agregasi (penjumlahan)** data berdasarkan periode waktu tertentu.                                                                                                                                                                |\n",
        "| `agg = series.resample(rule).sum()`                                                                                            | Fungsi `resample()` digunakan untuk mengelompokkan data berdasarkan periode waktu tertentu (`rule`), misalnya harian (‘D’), mingguan (‘W’), atau bulanan (‘M’). Karena targetnya adalah jumlah penyewaan sepeda, maka agregasinya menggunakan **penjumlahan** (`sum()`). |\n",
        "| `ml_daily_pred = aggregate_series(hourly_pred_series, 'D')`<br>`ml_daily_true = aggregate_series(hourly_true_series, 'D')`     | Mengubah data prediksi dan aktual *hourly* menjadi **harian (daily)**.                                                                                                                                                                                                   |\n",
        "| `ml_weekly_pred = aggregate_series(hourly_pred_series, 'W')`<br>`ml_weekly_true = aggregate_series(hourly_true_series, 'W')`   | Mengubah data prediksi dan aktual *hourly* menjadi **mingguan (weekly)**.                                                                                                                                                                                                |\n",
        "| `ml_monthly_pred = aggregate_series(hourly_pred_series, 'M')`<br>`ml_monthly_true = aggregate_series(hourly_true_series, 'M')` | Mengubah data prediksi dan aktual *hourly* menjadi **bulanan (monthly)**.                                                                                                                                                                                                |\n"
      ],
      "metadata": {
        "id": "qIm9CMcvDQMu"
      }
    },
    {
      "cell_type": "code",
      "execution_count": null,
      "metadata": {
        "colab": {
          "base_uri": "https://localhost:8080/"
        },
        "id": "KJiyMU2Q708k",
        "outputId": "f5424975-8dee-4a28-b33f-cc33f3077acc"
      },
      "outputs": [
        {
          "name": "stderr",
          "output_type": "stream",
          "text": [
            "/usr/local/lib/python3.12/dist-packages/statsmodels/base/optimizer.py:21: FutureWarning: Keyword arguments have been passed to the optimizer that have no effect. The list of allowed keyword arguments for method lbfgs is: m, pgtol, factr, maxfun, epsilon, approx_grad, bounds, loglike_and_score, iprint. The list of unsupported keyword arguments passed include: method_kwargs. After release 0.14, this will raise.\n",
            "  warnings.warn(\n",
            "/usr/local/lib/python3.12/dist-packages/statsmodels/tsa/statespace/sarimax.py:866: UserWarning: Too few observations to estimate starting parameters for ARMA and trend. All parameters except for variances will be set to zeros.\n",
            "  warn('Too few observations to estimate starting parameters%s.'\n",
            "/usr/local/lib/python3.12/dist-packages/statsmodels/tsa/statespace/sarimax.py:866: UserWarning: Too few observations to estimate starting parameters for seasonal ARMA. All parameters except for variances will be set to zeros.\n",
            "  warn('Too few observations to estimate starting parameters%s.'\n",
            "/usr/local/lib/python3.12/dist-packages/statsmodels/base/optimizer.py:21: FutureWarning: Keyword arguments have been passed to the optimizer that have no effect. The list of allowed keyword arguments for method lbfgs is: m, pgtol, factr, maxfun, epsilon, approx_grad, bounds, loglike_and_score, iprint. The list of unsupported keyword arguments passed include: method_kwargs. After release 0.14, this will raise.\n",
            "  warnings.warn(\n",
            "/usr/local/lib/python3.12/dist-packages/statsmodels/tsa/statespace/sarimax.py:866: UserWarning: Too few observations to estimate starting parameters for ARMA and trend. All parameters except for variances will be set to zeros.\n",
            "  warn('Too few observations to estimate starting parameters%s.'\n",
            "/usr/local/lib/python3.12/dist-packages/statsmodels/tsa/statespace/sarimax.py:866: UserWarning: Too few observations to estimate starting parameters for seasonal ARMA. All parameters except for variances will be set to zeros.\n",
            "  warn('Too few observations to estimate starting parameters%s.'\n",
            "/usr/local/lib/python3.12/dist-packages/statsmodels/base/optimizer.py:21: FutureWarning: Keyword arguments have been passed to the optimizer that have no effect. The list of allowed keyword arguments for method lbfgs is: m, pgtol, factr, maxfun, epsilon, approx_grad, bounds, loglike_and_score, iprint. The list of unsupported keyword arguments passed include: method_kwargs. After release 0.14, this will raise.\n",
            "  warnings.warn(\n"
          ]
        }
      ],
      "source": [
        "agg_daily_full = hourly_true_series.resample('D').sum().to_frame(name='cnt')\n",
        "agg_weekly_full = hourly_true_series.resample('W').sum().to_frame(name='cnt')\n",
        "agg_monthly_full = hourly_true_series.resample('ME').sum().to_frame(name='cnt')\n",
        "\n",
        "res_sarima_daily = fit_sarima_and_forecast(agg_daily_full, seasonal_period=7, order=(1,1,1), seasonal_order=(1,1,1,7))\n",
        "res_sarima_weekly = fit_sarima_and_forecast(agg_weekly_full, seasonal_period=52, order=(1,1,1), seasonal_order=(1,1,1,52))\n",
        "res_sarima_monthly = fit_sarima_and_forecast(agg_monthly_full, seasonal_period=12, order=(1,1,1), seasonal_order=(1,1,1,12))"
      ]
    },
    {
      "cell_type": "markdown",
      "source": [
        "\n",
        "- Membandingkan performa SARIMA di level harian, mingguan, dan bulanan.\n",
        "- Menentukan skala waktu mana yang paling akurat untuk forecasting baseline orders."
      ],
      "metadata": {
        "id": "5PeLSXhMDoG6"
      }
    },
    {
      "cell_type": "markdown",
      "source": [
        "| Model                | Seasonal period | Penjelasan                                             |\n",
        "| -------------------- | --------------- | ------------------------------------------------------ |\n",
        "| `res_sarima_daily`   | 7               | Asumsi pola mingguan (tiap 7 hari order naik/turun)    |\n",
        "| `res_sarima_weekly`  | 52              | Asumsi pola tahunan (tiap 52 minggu ada pola tertentu) |\n",
        "| `res_sarima_monthly` | 12              | Asumsi pola tahunan (tiap 12 bulan ada pola tertentu)  |\n"
      ],
      "metadata": {
        "id": "oXE-j1j3De7M"
      }
    },
    {
      "cell_type": "markdown",
      "source": [
        "| Parameter   | Arti                               | Contoh                                   |\n",
        "| ----------- | ---------------------------------- | ---------------------------------------- |\n",
        "| **p**       | lag autoregressive (AR)            | (1) → model melihat 1 periode sebelumnya |\n",
        "| **d**       | differencing (untuk stasioneritas) | (1) → hilangkan tren                     |\n",
        "| **q**       | moving average (MA)                | (1) → gunakan error sebelumnya           |\n",
        "| **P, D, Q** | versi musiman dari p, d, q         | untuk menangani pola musiman             |\n",
        "| **s**       | panjang siklus musiman             | 7 untuk mingguan, 12 untuk tahunan, dst  |\n"
      ],
      "metadata": {
        "id": "Eslh3gKBDgLB"
      }
    },
    {
      "cell_type": "code",
      "execution_count": null,
      "metadata": {
        "id": "Sy9qgqJU72-S"
      },
      "outputs": [],
      "source": [
        "if res_sarima_daily and res_sarima_daily['model'] is not None:\n",
        "    joblib.dump(res_sarima_daily['model'], \"sarima_daily.pkl\")\n",
        "if res_sarima_weekly and res_sarima_weekly['model'] is not None:\n",
        "    joblib.dump(res_sarima_weekly['model'], \"sarima_weekly.pkl\")\n",
        "if res_sarima_monthly and res_sarima_monthly['model'] is not None:\n",
        "    joblib.dump(res_sarima_monthly['model'], \"sarima_monthly.pkl\")"
      ]
    },
    {
      "cell_type": "code",
      "execution_count": null,
      "metadata": {
        "id": "QYjsV5dd75H-"
      },
      "outputs": [],
      "source": [
        "def ensemble_by_rmse(ml_pred, sarima_res):\n",
        "    sarima_pred = sarima_res['y_pred']\n",
        "    ml_pred_aligned = ml_pred.reindex(sarima_pred.index).fillna(0)\n",
        "    rmse_ml = math.sqrt(mean_squared_error(sarima_res['y_true'], ml_pred_aligned))\n",
        "    rmse_sarima = sarima_res['rmse']\n",
        "    w_ml = 0.0 if rmse_ml == 0 else 1.0 / rmse_ml\n",
        "    w_sarima = 0.0 if rmse_sarima == 0 else 1.0 / rmse_sarima\n",
        "    sumw = w_ml + w_sarima if (w_ml + w_sarima) != 0 else 1.0\n",
        "    w_ml_norm = w_ml / sumw\n",
        "    w_sarima_norm = w_sarima / sumw\n",
        "    hybrid = w_ml_norm * ml_pred_aligned + w_sarima_norm * sarima_pred\n",
        "    return {\n",
        "        'hybrid': hybrid,\n",
        "        'weights': {'ml': w_ml_norm, 'sarima': w_sarima_norm},\n",
        "        'rmse_ml': rmse_ml, 'rmse_sarima': rmse_sarima\n",
        "    }"
      ]
    },
    {
      "cell_type": "markdown",
      "source": [
        "| Bagian Kode                                                                                                                   | Penjelasan                                                                                                                                                                  | Interpretasi ke Model                                                                  |\n",
        "| ----------------------------------------------------------------------------------------------------------------------------- | --------------------------------------------------------------------------------------------------------------------------------------------------------------------------- | -------------------------------------------------------------------------------------- |\n",
        "| `sarima_pred = sarima_res['y_pred']`<br>`ml_pred_aligned = ml_pred.reindex(sarima_pred.index).fillna(0)`                      | Menyamakan indeks waktu antara prediksi ML dan SARIMA. Jika ada data yang hilang pada ML, diisi dengan 0 agar tetap sejajar.                                                | Membuat kedua hasil prediksi sejajar agar bisa dibandingkan dan digabungkan.           |\n",
        "| `rmse_ml = math.sqrt(mean_squared_error(sarima_res['y_true'], ml_pred_aligned))`<br>`rmse_sarima = sarima_res['rmse']`        | Menghitung nilai RMSE untuk masing-masing model. RMSE ML dihitung ulang terhadap data aktual, sedangkan RMSE SARIMA diambil langsung dari hasil evaluasi SARIMA.            | Semakin kecil RMSE, semakin baik performa model (lebih akurat).                        |\n",
        "| `w_ml = 0.0 if rmse_ml == 0 else 1.0 / rmse_ml`<br>`w_sarima = 0.0 if rmse_sarima == 0 else 1.0 / rmse_sarima`                | Menghitung bobot berdasarkan kebalikan dari RMSE. Jika RMSE kecil → bobot besar. Jika RMSE besar → bobot kecil.                                                             | Model dengan error lebih kecil diberi kepercayaan lebih tinggi pada prediksi gabungan. |\n",
        "| `sumw = w_ml + w_sarima if (w_ml + w_sarima) != 0 else 1.0`<br>`w_ml_norm = w_ml / sumw`<br>`w_sarima_norm = w_sarima / sumw` | Normalisasi bobot agar total bobot = 1.                                                                                                                                     | Menyeimbangkan kontribusi masing-masing model dalam ensemble.                          |\n",
        "| `hybrid = w_ml_norm * ml_pred_aligned + w_sarima_norm * sarima_pred`                                                          | Membuat prediksi gabungan (ensemble) menggunakan rata-rata berbobot dua model.                                                                                              | Prediksi akhir menggabungkan kekuatan ML (non-linear) dan SARIMA (musiman).            |\n",
        "| `return {...}`                                                                                                                | Mengembalikan hasil akhir berupa: <br> - `hybrid`: hasil prediksi gabungan <br> - `weights`: bobot model ML dan SARIMA <br> - `rmse_ml`, `rmse_sarima`: metrik masing-masin |                                                                                        |\n"
      ],
      "metadata": {
        "id": "E84zLpgoD_R3"
      }
    },
    {
      "cell_type": "code",
      "execution_count": null,
      "metadata": {
        "colab": {
          "base_uri": "https://localhost:8080/"
        },
        "id": "lfWridAC77W1",
        "outputId": "2accc112-9ab0-43a2-980e-c0d33fc01b71"
      },
      "outputs": [
        {
          "name": "stderr",
          "output_type": "stream",
          "text": [
            "/usr/local/lib/python3.12/dist-packages/sklearn/metrics/_regression.py:1266: UndefinedMetricWarning: R^2 score is not well-defined with less than two samples.\n",
            "  warnings.warn(msg, UndefinedMetricWarning)\n"
          ]
        }
      ],
      "source": [
        "if res_sarima_daily is not None:\n",
        "    ensemble_daily = ensemble_by_rmse(ml_daily_pred, res_sarima_daily)\n",
        "    hybrid_daily = ensemble_daily['hybrid']\n",
        "    rmse_hybrid_daily = math.sqrt(mean_squared_error(res_sarima_daily['y_true'], hybrid_daily))\n",
        "    mae_hybrid_daily = mean_absolute_error(res_sarima_daily['y_true'], hybrid_daily)\n",
        "    r2_hybrid_daily = r2_score(res_sarima_daily['y_true'], hybrid_daily)\n",
        "else:\n",
        "    hybrid_daily = None\n",
        "\n",
        "if res_sarima_weekly is not None:\n",
        "    ensemble_weekly = ensemble_by_rmse(ml_weekly_pred, res_sarima_weekly)\n",
        "    hybrid_weekly = ensemble_weekly['hybrid']\n",
        "    rmse_hybrid_weekly = math.sqrt(mean_squared_error(res_sarima_weekly['y_true'], hybrid_weekly))\n",
        "    mae_hybrid_weekly = mean_absolute_error(res_sarima_weekly['y_true'], hybrid_weekly)\n",
        "    r2_hybrid_weekly = r2_score(res_sarima_weekly['y_true'], hybrid_weekly)\n",
        "else:\n",
        "    hybrid_weekly = None\n",
        "\n",
        "if res_sarima_monthly is not None:\n",
        "    ensemble_monthly = ensemble_by_rmse(ml_monthly_pred, res_sarima_monthly)\n",
        "    hybrid_monthly = ensemble_monthly['hybrid']\n",
        "    rmse_hybrid_monthly = math.sqrt(mean_squared_error(res_sarima_monthly['y_true'], hybrid_monthly))\n",
        "    mae_hybrid_monthly = mean_absolute_error(res_sarima_monthly['y_true'], hybrid_monthly)\n",
        "    r2_hybrid_monthly = r2_score(res_sarima_monthly['y_true'], hybrid_monthly)\n",
        "else:\n",
        "    hybrid_monthly = None"
      ]
    },
    {
      "cell_type": "markdown",
      "source": [
        "| Bagian Kode                                                                                                                                      | Penjelasan                                                                                               | Interpretasi                                                                                |\n",
        "| ------------------------------------------------------------------------------------------------------------------------------------------------ | -------------------------------------------------------------------------------------------------------- | ------------------------------------------------------------------------------------------- |\n",
        "| `if res_sarima_daily is not None:`                                                                                                               | Mengecek apakah model SARIMA harian berhasil dibuat. Jika iya, lanjut ke proses ensemble.                | Menghindari error kalau model SARIMA belum dilatih.                                         |\n",
        "| `ensemble_daily = ensemble_by_rmse(ml_daily_pred, res_sarima_daily)`                                                                             | Memanggil fungsi `ensemble_by_rmse()` untuk menggabungkan prediksi ML dan SARIMA berdasarkan bobot RMSE. | Membentuk **prediksi hybrid** harian dari dua model berbeda.                                |\n",
        "| `hybrid_daily = ensemble_daily['hybrid']`                                                                                                        | Mengambil hasil prediksi gabungan (ensemble).                                                            | Prediksi akhir yang digunakan untuk evaluasi.                                               |\n",
        "| `rmse_hybrid_daily = math.sqrt(mean_squared_error(...))`<br>`mae_hybrid_daily = mean_absolute_error(...))`<br>`r2_hybrid_daily = r2_score(...))` | Menghitung metrik evaluasi (RMSE, MAE, R²) antara hasil gabungan dan nilai aktual.                       | Mengevaluasi seberapa baik model hybrid dibandingkan model tunggal.                         |\n",
        "| Proses yang sama dilakukan untuk `weekly` dan `monthly`                                                                                          | Kode diulang tiga kali dengan hanya mengganti data agregat (`daily`, `weekly`, `monthly`).               | Setiap periode diuji performanya sendiri untuk melihat skala waktu mana yang paling akurat. |\n"
      ],
      "metadata": {
        "id": "zHkG9f8xF7KA"
      }
    },
    {
      "cell_type": "markdown",
      "source": [
        "| Aspek                  | Penjelasan                                                                                                                                         |\n",
        "| ---------------------- | -------------------------------------------------------------------------------------------------------------------------------------------------- |\n",
        "| **Tujuan Ensemble**    | Menggabungkan prediksi **machine learning (GB)** yang kuat dalam menangkap pola kompleks dengan **SARIMA** yang baik dalam menangani pola musiman. |\n",
        "| **Cara Kerja**         | Bobot ditentukan oleh *inverse RMSE*, artinya model yang lebih akurat (RMSE lebih kecil) memiliki pengaruh lebih besar dalam hasil akhir.          |\n",
        "| **Keuntungan**         | Meningkatkan akurasi, mengurangi error, dan menghasilkan prediksi yang lebih stabil pada data harian, mingguan, dan bulanan.                       |\n",
        "| **Interpretasi Akhir** | Jika nilai RMSE dan MAE hybrid lebih rendah daripada model tunggal (GB atau SARIMA), maka hybrid terbukti **lebih baik**.                          |\n"
      ],
      "metadata": {
        "id": "1_H4rvSLGBw4"
      }
    },
    {
      "cell_type": "code",
      "execution_count": null,
      "metadata": {
        "id": "K15LC44j98a3"
      },
      "outputs": [],
      "source": [
        "def report(name, ml_true, ml_pred, sarima_res, hybrid_series=None):\n",
        "    print(\"----\", name.upper(), \"----\")\n",
        "    # ML-agg metrics\n",
        "    rmse_ml = math.sqrt(mean_squared_error(ml_true, ml_pred)) if len(ml_true)>0 else float('nan')\n",
        "    mae_ml = mean_absolute_error(ml_true, ml_pred) if len(ml_true)>0 else float('nan')\n",
        "    r2_ml = r2_score(ml_true, ml_pred) if len(ml_true)>1 else float('nan')\n",
        "    print(f\"ML-agg -> RMSE: {rmse_ml:.2f}, MAE: {mae_ml:.2f}, R2: {r2_ml:.3f}\")\n",
        "    # SARIMA metrics\n",
        "    if sarima_res is not None:\n",
        "        print(f\"SARIMA -> RMSE: {sarima_res['rmse']:.2f}, MAE: {sarima_res['mae']:.2f}, R2: {sarima_res['r2']:.3f}\")\n",
        "    else:\n",
        "        print(\"SARIMA -> failed\")\n",
        "    # Hybrid\n",
        "    if hybrid_series is not None:\n",
        "        rmse_h = math.sqrt(mean_squared_error(sarima_res['y_true'], hybrid_series))\n",
        "        mae_h = mean_absolute_error(sarima_res['y_true'], hybrid_series)\n",
        "        r2_h = r2_score(sarima_res['y_true'], hybrid_series)\n",
        "        print(f\"HYBRID -> RMSE: {rmse_h:.2f}, MAE: {mae_h:.2f}, R2: {r2_h:.3f}\")\n",
        "        # weights\n",
        "        print(\"Weights:\", (ensemble_daily['weights'] if name=='daily' else\n",
        "                           (ensemble_weekly['weights'] if name=='weekly' else ensemble_monthly['weights'])))\n",
        "    print()"
      ]
    },
    {
      "cell_type": "markdown",
      "source": [
        "| Bagian Kode                                                                                                    | Penjelasan Fungsi                                                                                                                                           |\n",
        "| -------------------------------------------------------------------------------------------------------------- | ----------------------------------------------------------------------------------------------------------------------------------------------------------- |\n",
        "| `def report(name, ml_true, ml_pred, sarima_res, hybrid_series=None):`                                          | Mendefinisikan fungsi `report()` untuk menampilkan hasil evaluasi model **ML**, **SARIMA**, dan **Hybrid** untuk setiap skala waktu (daily/weekly/monthly). |\n",
        "| `print(\"----\", name.upper(), \"----\")`                                                                          | Menampilkan judul laporan (misalnya: `---- DAILY ----`) agar hasil evaluasi lebih mudah dibaca.                                                             |\n",
        "| `rmse_ml = math.sqrt(mean_squared_error(ml_true, ml_pred))`                                                    | Menghitung **Root Mean Squared Error (RMSE)** untuk model ML aggregated. Mengukur seberapa jauh prediksi dari nilai aktual.                                 |\n",
        "| `mae_ml = mean_absolute_error(ml_true, ml_pred)`                                                               | Menghitung **Mean Absolute Error (MAE)** — rata-rata selisih absolut antara nilai aktual dan prediksi.                                                      |\n",
        "| `r2_ml = r2_score(ml_true, ml_pred)`                                                                           | Menghitung **R² score (coefficient of determination)** — seberapa besar variasi data dijelaskan oleh model.                                                 |\n",
        "| `print(f\"ML-agg -> RMSE: {rmse_ml:.2f}, MAE: {mae_ml:.2f}, R2: {r2_ml:.3f}\")`                                  | Menampilkan hasil metrik model ML dengan format rapi.                                                                                                       |\n",
        "| `if sarima_res is not None:`                                                                                   | Mengecek apakah model SARIMA berhasil dijalankan (hasilnya tidak kosong).                                                                                   |\n",
        "| `print(f\"SARIMA -> RMSE: {sarima_res['rmse']:.2f}, MAE: {sarima_res['mae']:.2f}, R2: {sarima_res['r2']:.3f}\")` | Menampilkan metrik performa model SARIMA dari hasil yang disimpan di dictionary `sarima_res`.                                                               |\n",
        "| `if hybrid_series is not None:`                                                                                | Mengecek apakah hasil ensemble (hybrid) tersedia. Jika ya, lanjut menghitung performanya.                                                                   |\n",
        "| `rmse_h = math.sqrt(mean_squared_error(sarima_res['y_true'], hybrid_series))`                                  | Menghitung **RMSE** untuk model hybrid (gabungan ML + SARIMA).                                                                                              |\n",
        "| `mae_h = mean_absolute_error(sarima_res['y_true'], hybrid_series)`                                             | Menghitung **MAE** untuk hybrid.                                                                                                                            |\n",
        "| `r2_h = r2_score(sarima_res['y_true'], hybrid_series)`                                                         | Menghitung **R²** untuk hybrid.                                                                                                                             |\n",
        "| `print(f\"HYBRID -> RMSE: {rmse_h:.2f}, MAE: {mae_h:.2f}, R2: {r2_h:.3f}\")`                                     | Menampilkan hasil metrik hybrid model.                                                                                                                      |\n",
        "| `print(\"Weights:\", (ensemble_daily['weights'] if name=='daily' else ...))`                                     | Menampilkan bobot ensemble yang digunakan untuk menggabungkan prediksi ML dan SARIMA — tergantung apakah mode harian, mingguan, atau bulanan.               |\n",
        "| `print()`                                                                                                      | Baris kosong untuk pemisah antar laporan.                                                                                                                   |\n"
      ],
      "metadata": {
        "id": "YbekcMCTGSAb"
      }
    },
    {
      "cell_type": "code",
      "execution_count": null,
      "metadata": {
        "colab": {
          "base_uri": "https://localhost:8080/"
        },
        "id": "fXd-Hrvg-Ac2",
        "outputId": "08447a78-ae5d-442a-c92a-edb8f4c3003a"
      },
      "outputs": [
        {
          "name": "stdout",
          "output_type": "stream",
          "text": [
            "---- DAILY ----\n",
            "ML-agg -> RMSE: 578.50, MAE: 474.07, R2: 0.812\n",
            "SARIMA -> RMSE: 1283.55, MAE: 1045.18, R2: 0.074\n",
            "HYBRID -> RMSE: 661.59, MAE: 567.97, R2: 0.754\n",
            "Weights: {'ml': 0.6893221617946855, 'sarima': 0.3106778382053145}\n",
            "\n",
            "---- WEEKLY ----\n",
            "ML-agg -> RMSE: 2681.59, MAE: 1818.55, R2: 0.904\n",
            "SARIMA -> RMSE: 15200.22, MAE: 12483.75, R2: -2.072\n",
            "HYBRID -> RMSE: 2912.21, MAE: 2670.47, R2: 0.887\n",
            "Weights: {'ml': 0.8500379884469084, 'sarima': 0.14996201155309175}\n",
            "\n",
            "---- MONTHLY ----\n",
            "ML-agg -> RMSE: 13374.79, MAE: 13374.79, R2: nan\n",
            "SARIMA -> RMSE: 26888.00, MAE: 26888.00, R2: nan\n",
            "HYBRID -> RMSE: 0.00, MAE: 0.00, R2: nan\n",
            "Weights: {'ml': 0.6678126079401396, 'sarima': 0.3321873920598604}\n",
            "\n"
          ]
        },
        {
          "name": "stderr",
          "output_type": "stream",
          "text": [
            "/usr/local/lib/python3.12/dist-packages/sklearn/metrics/_regression.py:1266: UndefinedMetricWarning: R^2 score is not well-defined with less than two samples.\n",
            "  warnings.warn(msg, UndefinedMetricWarning)\n"
          ]
        }
      ],
      "source": [
        "#Report daily\n",
        "if not ml_daily_true.empty and res_sarima_daily is not None:\n",
        "    report('daily', ml_daily_true.reindex(res_sarima_daily['test_index']).fillna(0), ml_daily_pred.reindex(res_sarima_daily['test_index']).fillna(0), res_sarima_daily, hybrid_daily)\n",
        "\n",
        "#Report weekly\n",
        "if not ml_weekly_true.empty and res_sarima_weekly is not None:\n",
        "    report('weekly', ml_weekly_true.reindex(res_sarima_weekly['test_index']).fillna(0), ml_weekly_pred.reindex(res_sarima_weekly['test_index']).fillna(0), res_sarima_weekly, hybrid_weekly)\n",
        "\n",
        "#Report monthly\n",
        "if not ml_monthly_true.empty and res_sarima_monthly is not None:\n",
        "    report('monthly', ml_monthly_true.reindex(res_sarima_monthly['test_index']).fillna(0), ml_monthly_pred.reindex(res_sarima_monthly['test_index']).fillna(0), res_sarima_monthly, hybrid_monthly)\n"
      ]
    },
    {
      "cell_type": "markdown",
      "source": [
        "| Frekuensi   | Model  | RMSE     | MAE      | R²     | Interpretasi                                                                                                                                                         |\n",
        "| ----------- | ------ | -------- | -------- | ------ | -------------------------------------------------------------------------------------------------------------------------------------------------------------------- |\n",
        "| **Daily**   | ML-agg | 578.50   | 474.07   | 0.812  | Model ML (Gradient Boosting hasil agregasi harian) memiliki performa **baik**, menjelaskan sekitar **81,2% variabilitas** data aktual. Error rata-rata cukup rendah. |\n",
        "|             | SARIMA | 1283.55  | 1045.18  | 0.074  | Performa SARIMA harian **lemah**, karena tidak mampu menangkap fluktuasi harian dengan baik (R² ≈ 0.07).                                                             |\n",
        "|             | HYBRID | 661.59   | 567.97   | 0.754  | Model hybrid sedikit menurun dibanding ML murni, karena bobot SARIMA (0.31) cukup besar padahal performa SARIMA jelek. Namun tetap **stabil** di level R² ≈ 0.75.    |\n",
        "| **Weekly**  | ML-agg | 2681.59  | 1818.55  | 0.904  | Model ML agregat mingguan **sangat kuat**, menjelaskan 90,4% variasi jumlah rental mingguan.                                                                         |\n",
        "|             | SARIMA | 15200.22 | 12483.75 | -2.072 | SARIMA mingguan **gagal total**, R² negatif menunjukkan prediksinya **lebih buruk dari rata-rata**.                                                                  |\n",
        "|             | HYBRID | 2912.21  | 2670.47  | 0.887  | Hybrid sedikit lebih buruk dari ML karena SARIMA punya error besar. Tapi tetap **stabil di kisaran R² tinggi (0.88)** berkat dominasi bobot ML (≈ 0.85).             |\n",
        "| **Monthly** | ML-agg | 13374.79 | 13374.79 | NaN    | Nilai R² tidak bisa dihitung karena jumlah data bulanan **terlalu sedikit (n < 2)**.                                                                                 |\n",
        "|             | SARIMA | 26888.00 | 26888.00 | NaN    | Sama halnya, data terlalu sedikit untuk evaluasi reliabel.                                                                                                           |\n",
        "|             | HYBRID | 0.00     | 0.00     | NaN    | Hasil ini muncul karena proses **ensemble gagal (nilai prediksi tidak sinkron)** akibat ukuran data bulanan sangat kecil.                                            |\n"
      ],
      "metadata": {
        "id": "TLSI7-riGeW1"
      }
    },
    {
      "cell_type": "markdown",
      "source": [
        "| Level       | Model Terbaik                  | Alasan                                                                                                |\n",
        "| ----------- | ------------------------------ | ----------------------------------------------------------------------------------------------------- |\n",
        "| **Daily**   | **ML-agg (Gradient Boosting)** | Memberikan keseimbangan akurasi tinggi dan stabilitas; SARIMA gagal mengikuti pola fluktuatif harian. |\n",
        "| **Weekly**  | **ML-agg (Gradient Boosting)** | Jauh lebih akurat dari SARIMA, dan hybrid tidak memberi banyak peningkatan.                           |\n",
        "| **Monthly** | **Tidak reliabel**             | Jumlah data terlalu kecil untuk penilaian valid; hybrid menghasilkan nilai anomali.                   |\n"
      ],
      "metadata": {
        "id": "orqc45zFGfC8"
      }
    },
    {
      "cell_type": "code",
      "execution_count": null,
      "metadata": {
        "colab": {
          "base_uri": "https://localhost:8080/",
          "height": 1000
        },
        "id": "SEXKxhbB-FjY",
        "outputId": "bb41b18f-e516-4c7a-ab57-75de074189be"
      },
      "outputs": [
        {
          "data": {
            "image/png": "[encoded data removed]",
            "text/plain": [
              "<Figure size 1200x400 with 1 Axes>"
            ]
          },
          "metadata": {},
          "output_type": "display_data"
        },
        {
          "data": {
            "image/png": "[encoded data removed]",
            "text/plain": [
              "<Figure size 1200x400 with 1 Axes>"
            ]
          },
          "metadata": {},
          "output_type": "display_data"
        },
        {
          "data": {
            "image/png": "[encoded data removed]",
            "text/plain": [
              "<Figure size 1200x400 with 1 Axes>"
            ]
          },
          "metadata": {},
          "output_type": "display_data"
        }
      ],
      "source": [
        "def plot_compare(true_series, ml_series, sarima_series, hybrid_series, title):\n",
        "    plt.figure(figsize=(12,4))\n",
        "    plt.plot(true_series.index, true_series.values, label='Actual', color='black')\n",
        "    if ml_series is not None:\n",
        "        plt.plot(ml_series.index, ml_series.values, label='ML-agg', color='orange', alpha=0.7)\n",
        "    if sarima_series is not None:\n",
        "        plt.plot(sarima_series.index, sarima_series.values, label='SARIMA', color='red', alpha=0.7)\n",
        "    if hybrid_series is not None:\n",
        "        plt.plot(hybrid_series.index, hybrid_series.values, label='Hybrid', color='green', alpha=0.8)\n",
        "    plt.title(title)\n",
        "    plt.legend()\n",
        "    plt.show()\n",
        "\n",
        "if res_sarima_daily:\n",
        "    plot_compare(res_sarima_daily['y_true'], ml_daily_pred.reindex(res_sarima_daily['test_index']).fillna(0), res_sarima_daily['y_pred'], hybrid_daily, \"Daily: Actual vs ML-agg vs SARIMA vs Hybrid\")\n",
        "\n",
        "if res_sarima_weekly:\n",
        "    plot_compare(res_sarima_weekly['y_true'], ml_weekly_pred.reindex(res_sarima_weekly['test_index']).fillna(0), res_sarima_weekly['y_pred'], hybrid_weekly, \"Weekly: Actual vs ML-agg vs SARIMA vs Hybrid\")\n",
        "\n",
        "if res_sarima_monthly:\n",
        "    plot_compare(res_sarima_monthly['y_true'], ml_monthly_pred.reindex(res_sarima_monthly['test_index']).fillna(0), res_sarima_monthly['y_pred'], hybrid_monthly, \"Monthly: Actual vs ML-agg vs SARIMA vs Hybrid\")"
      ]
    },
    {
      "cell_type": "markdown",
      "source": [
        "| Skala                 | Interpretasi Visualisasi                                                                                                                                                                                                                                                                                                                                                                                      |\n",
        "| :-------------------- | :------------------------------------------------------------------------------------------------------------------------------------------------------------------------------------------------------------------------------------------------------------------------------------------------------------------------------------------------------------------------------------------------------------ |\n",
        "| **Daily (Harian)**    | Garis **ML-agg (oranye)** paling mendekati **garis aktual (hitam)** — mengikuti naik-turun data dengan pola yang hampir sama, termasuk lonjakan dan penurunan tajam. **SARIMA (merah)** terlihat lebih mulus dan tertinggal dari pola aktual (kurang responsif terhadap perubahan cepat). **Hybrid (hijau)** berada di antara keduanya, cukup stabil tapi kadang meleset dari titik puncak dan lembah aktual. |\n",
        "| **Weekly (Mingguan)** | Semua garis cenderung menurun di akhir periode. **ML-agg** kembali paling dekat dengan aktual. **SARIMA** nyaris datar (tidak menangkap tren penurunan), menunjukkan kurang adaptif terhadap perubahan mingguan. **Hybrid** mengikuti tren dengan lebih baik daripada SARIMA, tapi masih belum seakurat ML-agg.                                                                                               |\n",
        "| **Monthly (Bulanan)** | Semua garis terlihat hampir datar dan tumpang tindih karena jumlah titik data sangat sedikit. Tidak tampak variasi berarti antara **Actual**, **ML-agg**, **SARIMA**, maupun **Hybrid** — sehingga sulit menilai perbedaan performa dari sisi visual.                                                                                                                                                         |\n"
      ],
      "metadata": {
        "id": "yVQoeylxHDqL"
      }
    },
    {
      "cell_type": "markdown",
      "source": [
        "Ringkasan singkat:\n",
        "- Visual harian → ML-agg paling mirip aktual, SARIMA paling tertinggal.\n",
        "- Visual mingguan → ML-agg tetap unggul, SARIMA terlalu kaku.\n",
        "- Visual bulanan → Pola tidak informatif (data terlalu sedikit)"
      ],
      "metadata": {
        "id": "NheOp95LHEJX"
      }
    },
    {
      "cell_type": "markdown",
      "metadata": {
        "id": "sTMvFEGJ68-d"
      },
      "source": [
        "#Streamlit"
      ]
    },
    {
      "cell_type": "code",
      "execution_count": null,
      "metadata": {
        "colab": {
          "base_uri": "https://localhost:8080/"
        },
        "id": "TN_IpwU57wfA",
        "outputId": "860c4dfa-fe53-4236-d3e2-3c7307cbdf22"
      },
      "outputs": [
        {
          "name": "stdout",
          "output_type": "stream",
          "text": [
            "Overwriting app.py\n"
          ]
        }
      ],
      "source": [
        "import streamlit as st\n",
        "import pandas as pd\n",
        "import numpy as np\n",
        "import matplotlib.pyplot as plt\n",
        "import os\n",
        "import math\n",
        "from sklearn.model_selection import TimeSeriesSplit, RandomizedSearchCV\n",
        "from sklearn.pipeline import Pipeline\n",
        "from sklearn.compose import ColumnTransformer\n",
        "from sklearn.preprocessing import StandardScaler, OneHotEncoder\n",
        "from sklearn.linear_model import Ridge\n",
        "from sklearn.ensemble import RandomForestRegressor, GradientBoostingRegressor\n",
        "from sklearn.metrics import mean_squared_error, mean_absolute_error, r2_score\n",
        "from sklearn.impute import SimpleImputer\n",
        "from statsmodels.tsa.statespace.sarimax import SARIMAX\n",
        "import joblib, json\n",
        "\n",
        "# =======================\n",
        "# Load data & model\n",
        "# =======================\n",
        "@st.cache_resource\n",
        "def load_models():\n",
        "    gb_model = joblib.load(\"best_hourly_model.pkl\")   # Gradient Boosting (trained)\n",
        "    data = pd.read_csv(\"data_bike_sharing.csv\")       # dataset\n",
        "    return gb_model, data\n",
        "\n",
        "gb_model, data = load_models()\n",
        "\n",
        "# =======================\n",
        "# SARIMA Fitting Helper\n",
        "# =======================\n",
        "def train_sarima(train_series, order=(1,1,1), seasonal=(1,1,1,7)):\n",
        "    model = SARIMAX(train_series, order=order, seasonal_order=seasonal, enforce_stationarity=False, enforce_invertibility=False)\n",
        "    fitted = model.fit(disp=False)\n",
        "    return fitted\n",
        "\n",
        "# =======================\n",
        "# Hybrid Prediction\n",
        "# =======================\n",
        "def hybrid_predict(gb_pred, sarima_pred):\n",
        "    # Dynamic weight based on RMSE\n",
        "    gb_error = np.std(gb_pred - sarima_pred) + 1e-6\n",
        "    sarima_error = np.std(sarima_pred - gb_pred) + 1e-6\n",
        "    w_gb = 1 / gb_error\n",
        "    w_sarima = 1 / sarima_error\n",
        "    w_sum = w_gb + w_sarima\n",
        "    w_gb /= w_sum\n",
        "    w_sarima /= w_sum\n",
        "    return (w_gb * gb_pred) + (w_sarima * sarima_pred), w_gb, w_sarima\n",
        "\n",
        "# =======================\n",
        "# Streamlit UI\n",
        "# =======================\n",
        "st.set_page_config(\n",
        "    page_title=\"Bike Rental Forecast\",\n",
        "    page_icon=\"🚴\",\n",
        "    layout=\"centered\",\n",
        "    initial_sidebar_state=\"auto\"\n",
        ")\n",
        "\n",
        "st.title(\"🚴 Bike Rental Forecasting App\")\n",
        "st.markdown(\"Hybrid Model: **Gradient Boosting + SARIMA**\")\n",
        "\n",
        "st.markdown(\"\"\"\n",
        "<style>\n",
        ".big-font {font-size:22px !important;}\n",
        "</style>\n",
        "\"\"\", unsafe_allow_html=True)\n",
        "st.markdown('<p class=\"big-font\">Prediksi jumlah peminjaman sepeda berdasarkan kondisi cuaca dan kalender.</p>', unsafe_allow_html=True)\n",
        "\n",
        "granularity = st.selectbox(\"Select Forecast Granularity:\", [\"Daily\", \"Weekly\", \"Monthly\"])\n",
        "\n",
        "# Pilih periode prediksi\n",
        "n_periods = st.slider(\"How many periods to forecast?\", 7, 60, 14)\n",
        "\n",
        "with st.sidebar:\n",
        "    st.header(\"🔧 Input Kondisi\")\n",
        "\n",
        "    st.subheader(\"🔧 Input Kondisi Cuaca & Kalender\")\n",
        "\n",
        "    season_map = {\"Spring\": 1, \"Summer\": 2, \"Fall\": 3, \"Winter\": 4}\n",
        "    weathersit_map = {\"Clear\": 1, \"Mist\": 2, \"Light Rain\": 3, \"Heavy Rain\": 4}\n",
        "\n",
        "    season = st.selectbox(\"Season\", list(season_map.keys()))\n",
        "    weathersit = st.selectbox(\"Weather\", list(weathersit_map.keys()))\n",
        "    temp = st.slider(\"Temperature (normalized 0–1)\", 0.0, 1.0, 0.3, 0.01)\n",
        "    hum = st.slider(\"Humidity (0–1)\", 0.0, 1.0, 0.5, 0.01)\n",
        "    month = st.slider(\"Month\", 1, 12, 6, 1)\n",
        "    holiday = st.checkbox(\"Holiday?\", value=False)\n",
        "\n",
        "# Susun input ke dataframe sesuai feature order model\n",
        "feature_cols = gb_model.feature_names_in_\n",
        "user_input = {\n",
        "    \"season\": season_map[season],\n",
        "    \"holiday\": int(holiday),\n",
        "    \"weathersit\": weathersit_map[weathersit],\n",
        "    \"temp\": temp,\n",
        "    \"atemp\": temp,  # gunakan temp yang sama\n",
        "    \"hum\": hum,\n",
        "    \"month\": month,\n",
        "    \"lag_1\": 0,\n",
        "    \"lag_24\": 0,\n",
        "    \"roll_mean_3\": 0,\n",
        "    \"roll_mean_24\": 0,\n",
        "    \"hour\": 12,  # default jam siang\n",
        "    \"dayofweek\": 1,  # default Senin\n",
        "    \"is_weekend\": 0,\n",
        "    \"is_rush\": 0\n",
        "}\n",
        "\n",
        "for col in feature_cols:\n",
        "    if col not in user_input:\n",
        "        user_input[col] = 0\n",
        "\n",
        "X_input = pd.DataFrame([user_input])[feature_cols]\n",
        "\n",
        "if st.button(\"Run Forecast\"):\n",
        "    # ============ Data Preparation ============\n",
        "    if granularity == \"Daily\":\n",
        "        df = data.copy()\n",
        "        df['dteday'] = pd.to_datetime(df['dteday'])\n",
        "        df = df.drop_duplicates(subset=\"dteday\")\n",
        "        df = df.set_index(\"dteday\").asfreq(\"D\")\n",
        "    elif granularity == \"Weekly\":\n",
        "        df = data.copy()\n",
        "        df['dteday'] = pd.to_datetime(df['dteday'])\n",
        "        df = df.set_index(\"dteday\").resample(\"W\").sum()\n",
        "    else:\n",
        "        df = data.copy()\n",
        "        df['dteday'] = pd.to_datetime(df['dteday'])\n",
        "        df = df.set_index(\"dteday\").resample(\"M\").sum()\n",
        "\n",
        "    train_series = df['cnt']\n",
        "\n",
        "    # ============ SARIMA ============\n",
        "    sarima_model = train_sarima(train_series)\n",
        "    sarima_forecast = sarima_model.forecast(steps=n_periods)\n",
        "\n",
        "    # ============ GB MULTISTEP ============\n",
        "    gb_pred = []\n",
        "    last_vals = train_series.copy()\n",
        "    for i in range(n_periods):\n",
        "        # Update lag & rolling mean dari data terakhir\n",
        "        user_input[\"lag_1\"] = last_vals.iloc[-1]\n",
        "        user_input[\"lag_24\"] = last_vals.iloc[-min(24, len(last_vals))]\n",
        "        user_input[\"roll_mean_3\"] = last_vals.iloc[-min(3, len(last_vals)):].mean()\n",
        "        user_input[\"roll_mean_24\"] = last_vals.iloc[-min(24, len(last_vals)):].mean()\n",
        "        X_input = pd.DataFrame([user_input])[feature_cols]\n",
        "        pred = gb_model.predict(X_input)[0]\n",
        "        gb_pred.append(pred)\n",
        "        last_vals = pd.concat([last_vals, pd.Series([pred])], ignore_index=True)\n",
        "\n",
        "    gb_pred = np.array(gb_pred)\n",
        "\n",
        "    # ============ Hybrid ============\n",
        "    hybrid_pred, w_gb, w_sarima = hybrid_predict(gb_pred, sarima_forecast.values)\n",
        "\n",
        "    # ============ Plot ============\n",
        "    if granularity == \"Daily\":\n",
        "        start_date = df.index[-1] + pd.Timedelta(days=1)\n",
        "        freq = \"D\"\n",
        "    elif granularity == \"Weekly\":\n",
        "        start_date = df.index[-1] + pd.DateOffset(weeks=1)\n",
        "        freq = \"W\"\n",
        "    else:  # Monthly\n",
        "        start_date = df.index[-1] + pd.DateOffset(months=1)\n",
        "        freq = \"M\"\n",
        "\n",
        "    future_idx = pd.date_range(\n",
        "        start=start_date,\n",
        "        periods=n_periods,\n",
        "        freq=freq\n",
        "    )\n",
        "\n",
        "    forecast_df = pd.DataFrame({\n",
        "        \"Hybrid Forecast\": np.round(hybrid_pred).astype(int)\n",
        "    }, index=future_idx)\n",
        "\n",
        "    st.subheader(f\"Forecast Results ({granularity})\")\n",
        "    st.write(forecast_df)\n",
        "\n",
        "    st.subheader(\"Forecast Visualization\")\n",
        "    plt.figure(figsize=(10,5))\n",
        "    plt.plot(forecast_df.index, forecast_df[\"Hybrid Forecast\"], color=\"green\", label=\"Hybrid Forecast\")\n",
        "    plt.legend()\n",
        "    st.pyplot(plt)\n",
        "\n",
        "    st.metric(\"Prediksi Total\", int(forecast_df[\"Hybrid Forecast\"].sum()))\n"
      ]
    },
    {
      "cell_type": "markdown",
      "source": [
        "#Conclusion"
      ],
      "metadata": {
        "id": "FSNWUMtqJJ2k"
      }
    },
    {
      "cell_type": "markdown",
      "source": [
        "##Hasil model dan prediksi"
      ],
      "metadata": {
        "id": "AXf9mR3-JJT3"
      }
    },
    {
      "cell_type": "markdown",
      "source": [
        "| Skala Waktu           | Model  | RMSE        | MAE         | R²        | Interpretasi                                                                       |\n",
        "| --------------------- | ------ | ----------- | ----------- | --------- | ---------------------------------------------------------------------------------- |\n",
        "| **Harian (Daily)**    | ML-agg | **578.50**  | **474.07**  | **0.812** | Model memiliki akurasi tinggi, mampu menjelaskan 81% variasi data aktual.          |\n",
        "| **Harian (Daily)**    | SARIMA | 1283.55     | 1045.18     | 0.074     | Akurasi rendah; model tidak mampu menangkap pola kompleks non-linear.              |\n",
        "| **Harian (Daily)**    | Hybrid | 661.59      | 567.97      | 0.754     | Kombinasi model stabil; hasil sedikit lebih rendah dari ML murni namun tetap baik. |\n",
        "| **Mingguan (Weekly)** | ML-agg | **2681.59** | **1818.55** | **0.904** | Model terbaik; mampu menjelaskan 90% variasi data mingguan.                        |\n",
        "| **Mingguan (Weekly)** | SARIMA | 15200.22    | 12483.75    | -2.072    | Performanya buruk; tidak cocok untuk pola mingguan.                                |\n",
        "| **Mingguan (Weekly)** | Hybrid | 2912.21     | 2670.47     | 0.887     | Kombinasi stabil dan mendekati performa ML murni.                                  |\n",
        "| **Bulanan (Monthly)** | ML-agg | 13374.79    | 13374.79    | NaN       | Data terlalu sedikit, model belum stabil.                                          |\n",
        "| **Bulanan (Monthly)** | SARIMA | 26888.00    | 26888.00    | NaN       | Tidak signifikan; hasil tidak bisa dievaluasi.                                     |\n",
        "| **Bulanan (Monthly)** | Hybrid | 0.00        | 0.00        | NaN       | Tidak valid karena data agregasi terlalu besar.                                    |\n"
      ],
      "metadata": {
        "id": "NLpCqNJ6JkOJ"
      }
    },
    {
      "cell_type": "markdown",
      "source": [
        "##Implikasi Bisnis dan Prediksi"
      ],
      "metadata": {
        "id": "fcaAj4NRJktL"
      }
    },
    {
      "cell_type": "markdown",
      "source": [
        "| No | Aspek Operasional                  | Implikasi dari Model Prediksi                                                                |\n",
        "| -- | ---------------------------------- | -------------------------------------------------------------------------------------------- |\n",
        "| 1  | **Perencanaan Stok Sepeda**        | Menentukan jumlah sepeda optimal di setiap stasiun berdasarkan prediksi harian/mingguan.     |\n",
        "| 2  | **Distribusi dan Logistik**        | Mengatur jadwal distribusi sepeda agar tidak ada kelebihan atau kekurangan di area tertentu. |\n",
        "| 3  | **Efisiensi Biaya Operasional**    | Mengurangi biaya penyimpanan dan tenaga kerja dengan perencanaan berbasis data.              |\n",
        "| 4  | **Strategi Promosi dan Penjualan** | Memprediksi lonjakan permintaan saat cuaca cerah, akhir pekan, atau musim liburan.           |\n",
        "| 5  | **Manajemen Pelanggan**            | Menyediakan layanan lebih responsif sesuai pola permintaan pengguna.                         |\n"
      ],
      "metadata": {
        "id": "Gno0lrX6Jn2x"
      }
    },
    {
      "cell_type": "markdown",
      "source": [
        "##Kesimpulan"
      ],
      "metadata": {
        "id": "v2WBvP39JoR9"
      }
    },
    {
      "cell_type": "markdown",
      "source": [
        "| No | Rumusan Masalah                                                                            | Hasil & Jawaban                                                                                                  |\n",
        "| -- | ------------------------------------------------------------------------------------------ | ---------------------------------------------------------------------------------------------------------------- |\n",
        "| 1  | Bagaimana memprediksi permintaan penyewaan sepeda dengan akurat menggunakan data historis? | Model **Machine Learning (ML-agg)** mampu memprediksi dengan baik, R² > 0.8 pada data harian dan mingguan.       |\n",
        "| 2  | Apakah model time series tradisional (SARIMA) masih relevan untuk kasus ini?               | SARIMA menunjukkan performa rendah (R² negatif pada mingguan), kurang cocok untuk pola permintaan non-linear.    |\n",
        "| 3  | Apakah kombinasi model (Hybrid) dapat meningkatkan hasil prediksi?                         | Ya, **Hybrid Model** memberikan hasil stabil dan mendekati akurasi ML, cocok untuk menjaga konsistensi performa. |\n",
        "| 4  | Bagaimana hasil prediksi ini dapat membantu pengambilan keputusan bisnis?                  | Prediksi harian/mingguan dapat digunakan untuk **perencanaan stok, jadwal logistik, dan efisiensi operasional.** |\n"
      ],
      "metadata": {
        "id": "i11P70MaJp-S"
      }
    },
    {
      "cell_type": "markdown",
      "source": [
        "##Saran"
      ],
      "metadata": {
        "id": "HqZDj5PTJsEF"
      }
    },
    {
      "cell_type": "markdown",
      "source": [
        "| No | Aspek                     | Saran Pengembangan                                                                                                     |\n",
        "| -- | ------------------------- | ---------------------------------------------------------------------------------------------------------------------- |\n",
        "| 1  | **Fitur Eksternal**       | Tambahkan data cuaca, event kota, atau kondisi lalu lintas untuk memperkaya prediksi.                                  |\n",
        "| 2  | **Modeling**              | Gunakan **LSTM atau GRU (Deep Learning)** untuk menangkap pola temporal jangka panjang.                                |\n",
        "| 3  | **Evaluasi Model**        | Lakukan validasi silang dan uji robustnes untuk setiap skala waktu (harian, mingguan, bulanan).                        |\n",
        "| 4  | **Real-Time Forecasting** | Implementasikan sistem prediksi otomatis berbasis streaming data agar hasil selalu up to date.                         |\n",
        "\n"
      ],
      "metadata": {
        "id": "qjjm-XGaJtvL"
      }
    }
  ],
  "metadata": {
    "colab": {
      "collapsed_sections": [
        "s41NCOaH24X0",
        "0GPd7uByMm_Z",
        "ImGvr2sfN6Aa",
        "sTMvFEGJ68-d"
      ],
      "provenance": []
    },
    "kernelspec": {
      "display_name": "Python 3",
      "name": "python3"
    },
    "language_info": {
      "codemirror_mode": {
        "name": "ipython",
        "version": 3
      },
      "file_extension": ".py",
      "mimetype": "text/x-python",
      "name": "python",
      "nbconvert_exporter": "python",
      "pygments_lexer": "ipython3",
      "version": "3.12.2"
    }
  },
  "nbformat": 4,
  "nbformat_minor": 0
}